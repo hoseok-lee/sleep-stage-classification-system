{
 "cells": [
  {
   "cell_type": "markdown",
   "metadata": {
    "id": "BnlLdtj3lHBl"
   },
   "source": [
    "Download database if database does not exist."
   ]
  },
  {
   "cell_type": "code",
   "execution_count": 16,
   "metadata": {},
   "outputs": [],
   "source": [
    "![ ! -d \"physionet.org\" ] && wget -r -N -c -np -q https://physionet.org/files/slpdb/1.0.0/"
   ]
  },
  {
   "cell_type": "code",
   "execution_count": 17,
   "metadata": {},
   "outputs": [
    {
     "name": "stdout",
     "output_type": "stream",
     "text": [
      "/usr/bin/bash\n"
     ]
    }
   ],
   "source": [
    "%%bash\n",
    "which bash"
   ]
  },
  {
   "cell_type": "markdown",
   "metadata": {
    "id": "bn4kzr6KmE6B"
   },
   "source": [
    "Download libraries."
   ]
  },
  {
   "cell_type": "code",
   "execution_count": 32,
   "metadata": {
    "colab": {
     "base_uri": "https://localhost:8080/"
    },
    "id": "BtOCDXRemGNN",
    "outputId": "3bef8850-c9d9-4779-d9d8-a2948f9e65bb",
    "scrolled": false
   },
   "outputs": [
    {
     "name": "stderr",
     "output_type": "stream",
     "text": [
      "'C:\\Users\\Ho' is not recognized as an internal or external command,\n",
      "operable program or batch file.\n",
      "'C:\\Users\\Ho' is not recognized as an internal or external command,\n",
      "operable program or batch file.\n"
     ]
    }
   ],
   "source": [
    "import sys\n",
    "!{sys.executable} -m pip install -q wfdb tinymlgen --user\n",
    "!{sys.executable} -m pip install matplotlib==3.1.3 --user"
   ]
  },
  {
   "cell_type": "markdown",
   "metadata": {
    "id": "XTUxPlAylstP"
   },
   "source": [
    "Import libraries and set random seed."
   ]
  },
  {
   "cell_type": "code",
   "execution_count": 46,
   "metadata": {
    "id": "lZt8rqnwluy1"
   },
   "outputs": [],
   "source": [
    "# For reading database\n",
    "import wfdb\n",
    "import os\n",
    "import copy\n",
    "import numpy as np\n",
    "import scipy as sp\n",
    "from scipy import signal\n",
    "import tensorflow as tf\n",
    "from tensorflow.keras import models, layers\n",
    "from tensorflow.keras import utils\n",
    "import matplotlib.pyplot as plt\n",
    "\n",
    "np.random.seed(1)\n",
    "tf.random.set_seed(1)"
   ]
  },
  {
   "cell_type": "markdown",
   "metadata": {
    "id": "CP7JEBwSmfCj"
   },
   "source": [
    "## **1. Import Database**\n",
    "Accessing data and basic data processing.\n"
   ]
  },
  {
   "cell_type": "code",
   "execution_count": 34,
   "metadata": {
    "id": "uBcKJYsz5jo5"
   },
   "outputs": [],
   "source": [
    "class PatientData (object):\n",
    "    ECG_signal = None\n",
    "    EEG_signal = None\n",
    "    sleep_stages = None\n",
    "\n",
    "    record_length = None\n",
    "    sampling_frequency = None\n",
    "\n",
    "    def __init__ (self, patient_name):\n",
    "        self.patient_name = patient_name"
   ]
  },
  {
   "cell_type": "code",
   "execution_count": 35,
   "metadata": {
    "id": "acnTzNBz3co0"
   },
   "outputs": [],
   "source": [
    "DATABASE_PATH = 'physionet.org/files/slpdb/1.0.0'\n",
    "\n",
    "with open(os.path.join(DATABASE_PATH, 'RECORDS'), 'r') as file:\n",
    "    PATIENT_NAMES = file.read().split('\\n')[:-1]\n",
    "  \n",
    "PATIENTS = {\n",
    "    patient_name: PatientData(patient_name)\n",
    "    for patient_name in PATIENT_NAMES\n",
    "}"
   ]
  },
  {
   "cell_type": "code",
   "execution_count": 405,
   "metadata": {
    "id": "q4tscNYw7RCf"
   },
   "outputs": [],
   "source": [
    "# 0 Awake\n",
    "# 1 NREM stage 1\n",
    "# 2 NREM stage 2\n",
    "# 3 NREM stage 3 and 4\n",
    "# 4 REM\n",
    "def annotation_sleep_stage (annotation):\n",
    "    if annotation.startswith('W'):\n",
    "        return 0\n",
    "    elif annotation.startswith('1'):\n",
    "        return 1\n",
    "    elif annotation.startswith('2'):\n",
    "        return 2\n",
    "    elif annotation.startswith('3') or annotation.startswith('4'):\n",
    "        return 3\n",
    "    elif annotation.startswith('R'):\n",
    "        return 4\n",
    "    # Ideally, all annotations are classified into one of the above 5\n",
    "    else:\n",
    "        return -1\n",
    "\n",
    "# Since annotations only have labels and the time at which they occur,\n",
    "# interpolate all the data so there's always a label at each time step\n",
    "def step_interpolation (data, locations, total_length):\n",
    "    step_interpolated_data = np.zeros(total_length)\n",
    "\n",
    "    for i in range(len(locations) - 1):\n",
    "        start_range = locations[i]\n",
    "        end_range = locations[i + 1]\n",
    "\n",
    "        # Convert string annotation into sleep stage\n",
    "        step_interpolated_data[(start_range - 1) : end_range] = annotation_sleep_stage(data[i])\n",
    "\n",
    "    return step_interpolated_data"
   ]
  },
  {
   "cell_type": "code",
   "execution_count": 406,
   "metadata": {
    "id": "x15jx_LYmmA6"
   },
   "outputs": [],
   "source": [
    "for patient_name in PATIENT_NAMES:\n",
    "    patient = PATIENTS[patient_name]\n",
    "\n",
    "    # Retrieve raw signals and annotations\n",
    "    record_path = os.path.join(DATABASE_PATH, patient_name)\n",
    "    record = wfdb.io.rdrecord(record_path)\n",
    "    annotation = wfdb.rdann(record_path, extension='st')\n",
    "\n",
    "    # Sampling frequency\n",
    "    # This might differ for each record\n",
    "    patient.sampling_frequency = record.fs\n",
    "\n",
    "    # 0 ECG\n",
    "    # 1 BP\n",
    "    # 2 EEG\n",
    "    # 3 Resp (not available for all)\n",
    "    patient.ECG_signal = record.p_signal[:, 0]\n",
    "    patient.EEG_signal = record.p_signal[:, 2]\n",
    "    patient.record_length = record.sig_len\n",
    "\n",
    "    patient.sleep_stages = step_interpolation(annotation.aux_note, annotation.sample, patient.record_length)"
   ]
  },
  {
   "cell_type": "code",
   "execution_count": 407,
   "metadata": {
    "colab": {
     "base_uri": "https://localhost:8080/"
    },
    "id": "DUsBEQGz7wL5",
    "outputId": "b45f5740-7388-456e-ff70-778b5f800c16"
   },
   "outputs": [
    {
     "name": "stdout",
     "output_type": "stream",
     "text": [
      "[0.085 0.08  0.125 ... 0.23  0.235 0.225]\n",
      "[-0.03919129 -0.03888025 -0.03856921 ...  0.14727838  0.14681182\n",
      "  0.14261275]\n",
      "[3. 3. 3. ... 0. 0. 0.]\n"
     ]
    }
   ],
   "source": [
    "# Example patient\n",
    "patient_slp01a = PATIENTS['slp01a']\n",
    "print(patient_slp01a.ECG_signal)\n",
    "print(patient_slp01a.EEG_signal)\n",
    "print(patient_slp01a.sleep_stages)"
   ]
  },
  {
   "cell_type": "code",
   "execution_count": 408,
   "metadata": {
    "id": "G2eqrZjt0K4Z"
   },
   "outputs": [],
   "source": [
    "# Splitting the dataset into train, validation, test set\n",
    "# Will be split in terms of patients, not sleep data\n",
    "num_patients = len(PATIENTS)\n",
    "\n",
    "# Shuffle patients\n",
    "randomized_patients = copy.deepcopy(list(PATIENTS.keys()))\n",
    "np.random.shuffle(randomized_patients)\n",
    "\n",
    "# 80 / 10 / 10 split of 18 patients will be roughly 14 / 2 / 2\n",
    "# Don't need test_end, since it'll be until the end of data\n",
    "train_end = 14\n",
    "valid_end = train_end + 2\n",
    "\n",
    "# Split data using keys\n",
    "train_patients = randomized_patients[ : train_end]\n",
    "valid_patients = randomized_patients[train_end : valid_end]\n",
    "test_patients = randomized_patients[valid_end : ]"
   ]
  },
  {
   "cell_type": "markdown",
   "metadata": {
    "id": "EYu2d3lFn33a"
   },
   "source": [
    "## **2. Building the Neural Network**"
   ]
  },
  {
   "cell_type": "code",
   "execution_count": 446,
   "metadata": {
    "colab": {
     "base_uri": "https://localhost:8080/"
    },
    "id": "D--JGvLr1E9b",
    "outputId": "b3cc854c-c876-4776-b148-750889344129"
   },
   "outputs": [],
   "source": [
    "def create_dataset(patient_set, window_size=15, batch_size=10, diagnostic=False):\n",
    "    inputs = []\n",
    "    labels = []\n",
    "    \n",
    "    i = 0\n",
    "    for patient_name in patient_set:\n",
    "        patient = PATIENTS[patient_name]\n",
    "        total_samples = patient.EEG_signal.shape[0]\n",
    "\n",
    "        # Represents the number of samples (individual numbers) in one window of time (measured in seconds)\n",
    "        samples_per_window = int(window_size * patient.sampling_frequency)\n",
    "        \n",
    "        # Represents how many data points is generated after division with windows\n",
    "        # If the window size is larger, there will be less data points (but more samples per data point)\n",
    "        windows = np.round(total_samples / samples_per_window).astype(np.int64)\n",
    "        \n",
    "        # Calculate the number of batches, dependent on the number of data points and batch size\n",
    "        batches = np.ceil(windows / batch_size).astype(np.int64)\n",
    "        \n",
    "        \n",
    "        \n",
    "        if diagnostic:\n",
    "            print(\"Gathering {} patient data...\".format(patient_name))\n",
    "            print(\"> Total number of samples = {}\".format(total_samples))\n",
    "            print(\"  Samples per window size of {} seconds = {}\".format(window_size, samples_per_window))\n",
    "            print(\"  Number of windows = {}\".format(windows))\n",
    "            print(\"  Number of batches for batch size {} = {}\".format(batch_size, batches))\n",
    "\n",
    "            \n",
    "            \n",
    "        for datum in range(windows):\n",
    "            '''\n",
    "            current_batch_inputs = []\n",
    "            current_batch_labels = []\n",
    "            \n",
    "            for datum in range(batch_size):\n",
    "            '''\n",
    "            # Determine start and end of current batch\n",
    "            # Function assumes that batch sizes match the number of samples perfectly\n",
    "            start = (datum * samples_per_window)\n",
    "            end = (start + samples_per_window)\n",
    "\n",
    "            '''\n",
    "            EEG_MFCC = librosa.feature.melspectrogram(\n",
    "                y=patient.EEG_signal[start : end], \n",
    "                sr=patient.sampling_frequency)\n",
    "            ECG_MFCC = librosa.feature.melspectrogram(\n",
    "                y=patient.ECG_signal[start : end], \n",
    "                sr=patient.sampling_frequency)\n",
    "\n",
    "            sample = np.expand_dims(\n",
    "                np.stack([ EEG_MFCC, ECG_MFCC ], axis=2), \n",
    "                axis=0)\n",
    "            '''\n",
    "            \n",
    "            # ORIGINAL \n",
    "            #EEG = patient.EEG_signal[start : end]\n",
    "            #ECG = patient.ECG_signal[start : end]\n",
    "            '''\n",
    "            # using wave frequencies\n",
    "            sf = 250\n",
    "            freqs, psd = sp.signal.welch(patient.EEG_signal[start : end], sf, nperseg=(4 * sf))\n",
    "            delta = psd[np.logical_and(freqs >= 0.25, freqs < 4)]\n",
    "            theta = psd[np.logical_and(freqs >= 4, freqs < 8)]\n",
    "            alpha = psd[np.logical_and(freqs >= 8, freqs < 12)]\n",
    "            sigma = psd[np.logical_and(freqs >= 12, freqs < 16)]\n",
    "            beta = psd[freqs >= 16] # for awake stage only \n",
    "            EEG = np.concatenate((delta, theta, alpha, sigma, beta)).tolist()\n",
    "            ECG = patient.ECG_signal[start : end]\n",
    "            '''\n",
    "            sample = [\n",
    "                patient.EEG_signal[start : end],\n",
    "                patient.ECG_signal[start : end]\n",
    "            ]\n",
    "\n",
    "            # Only grab the label at the end of the current batch\n",
    "            # This is such that we're using all of the data in the current batch\n",
    "            # in order to predict the sleep stage by the end of the batch\n",
    "            sample_labels = patient.sleep_stages[end - 1]\n",
    "            '''\n",
    "                current_batch_inputs.append(sample)\n",
    "                current_batch_labels.append(sample_labels)\n",
    "            '''\n",
    "            inputs.append(sample)\n",
    "            labels.append(sample_labels)\n",
    "            \n",
    "        i += 1\n",
    "        if i == 1:\n",
    "            break\n",
    "\n",
    "    return np.expand_dims(np.array(inputs), axis=-1), np.expand_dims(np.array(labels), axis=-1)"
   ]
  },
  {
   "cell_type": "code",
   "execution_count": 447,
   "metadata": {},
   "outputs": [],
   "source": [
    "# Create training and validation dataset\n",
    "train_data, train_labels = create_dataset(train_patients, diagnostic=False)"
   ]
  },
  {
   "cell_type": "code",
   "execution_count": 448,
   "metadata": {},
   "outputs": [
    {
     "name": "stdout",
     "output_type": "stream",
     "text": [
      "(960, 2, 3750, 1)\n",
      "(960, 1)\n"
     ]
    }
   ],
   "source": [
    "print(train_data.shape)\n",
    "print(train_labels.shape)"
   ]
  },
  {
   "cell_type": "code",
   "execution_count": 425,
   "metadata": {},
   "outputs": [
    {
     "name": "stdout",
     "output_type": "stream",
     "text": [
      "[-0.00350044 -0.00063644  0.005728   ... -0.01336533 -0.00270489\n",
      " -0.00445511]\n"
     ]
    }
   ],
   "source": [
    "print(train_data[1][0].squeeze())"
   ]
  },
  {
   "cell_type": "code",
   "execution_count": 426,
   "metadata": {},
   "outputs": [
    {
     "name": "stdout",
     "output_type": "stream",
     "text": [
      "[2.39606163e-02 8.95904585e-03 1.72063160e-03 5.83120603e-04\n",
      " 3.50626115e-04 1.51434830e-04 3.61679447e-05 2.83676960e-05\n",
      " 3.13392547e-05 2.37524290e-05 1.72646519e-05 1.05385525e-05\n",
      " 9.38894675e-06 5.12471943e-06 4.98145713e-06]\n",
      "[6.30974338e-06 1.02507789e-05 9.96057495e-06 5.01614943e-06\n",
      " 1.96462596e-06 2.15647677e-06 4.25555324e-06 5.97825744e-06\n",
      " 2.93059923e-06 4.19923209e-06 9.11169534e-06 7.53191033e-06\n",
      " 2.89730418e-06 6.25506914e-06 8.37078851e-06 6.28456064e-06]\n",
      "[3.00357081e-06 5.54740378e-06 3.08140333e-06 6.51256018e-06\n",
      " 1.05786572e-05 6.65763737e-06 3.73351905e-06 3.38130050e-06\n",
      " 7.04517789e-06 9.18574762e-06 1.66886475e-05 1.20624852e-05\n",
      " 1.33054217e-05 1.56869748e-05 1.19878740e-05 4.54138428e-06]\n",
      "[9.77688502e-06 7.64838499e-06 3.23229787e-06 4.26481371e-06\n",
      " 4.18122074e-06 2.78277198e-06 3.92703044e-06 4.43973136e-06\n",
      " 1.03500866e-06 2.54489347e-06 3.62478904e-06 4.31613519e-06\n",
      " 5.48243949e-06 5.81032293e-06 5.28400116e-06 5.73675893e-06]\n",
      "[4.79906710e-06 3.17048791e-06 2.87387695e-06 2.79948050e-06\n",
      " 1.43954874e-06 4.48510072e-07 6.89754614e-07 2.04383612e-06\n",
      " 2.62051528e-06 1.25314378e-06 5.87124681e-07 5.87862153e-07\n",
      " 1.56088821e-06 3.33437404e-06 2.68688709e-06 2.20861917e-06\n",
      " 2.14498709e-06 2.65777981e-06 3.71261622e-06 3.31822662e-06\n",
      " 2.72144440e-06 1.33470157e-06 1.81919659e-06 3.90915439e-06\n",
      " 3.35709262e-06 7.57922072e-07 7.80358428e-07 5.05288511e-07\n",
      " 5.52397456e-07 1.79131106e-06 2.37736863e-06 2.47928614e-06\n",
      " 2.45516607e-06 3.08216886e-06 1.13117308e-06 7.99039805e-07\n",
      " 1.84650541e-06 1.74989213e-06 2.66941138e-06 2.67830630e-06\n",
      " 5.95409782e-06 1.11290347e-05 1.15379642e-05 1.17219577e-05\n",
      " 1.35585875e-05 1.36923104e-05 1.42055149e-05 1.51665874e-05\n",
      " 1.47317266e-05 1.23766153e-05 9.60376968e-06 9.03674534e-06\n",
      " 9.51886116e-06 9.58992518e-06 8.56694051e-06 9.70542828e-06\n",
      " 1.56495165e-05 2.04992406e-05 2.09630142e-05 1.66098942e-05\n",
      " 1.29167270e-05 7.27568504e-06 2.32949704e-06 1.27686712e-06\n",
      " 1.44792359e-06 6.07808976e-07 5.26264184e-07 7.68718080e-07\n",
      " 1.40525804e-06 2.27735279e-06 3.51560081e-06 3.92253187e-06\n",
      " 2.76703666e-06 1.92382829e-06 2.61222567e-06 2.68153660e-06\n",
      " 1.72258980e-06 1.06739820e-06 1.23450323e-06 2.55664804e-06\n",
      " 4.62090170e-06 6.20564129e-06 6.27469311e-06 3.99091611e-06\n",
      " 2.68803280e-06 2.39717746e-06 2.91646143e-06 2.75334106e-06\n",
      " 2.07787645e-06 1.20360266e-06 1.01082245e-06 1.74493338e-06\n",
      " 1.70930362e-06 1.07050564e-06 5.54129253e-07 8.91903259e-07\n",
      " 2.75254731e-06 4.49015588e-06 5.71310341e-06 4.05019111e-06\n",
      " 2.15708140e-06 1.90606068e-06 2.07893846e-06 2.52545513e-06\n",
      " 2.65546554e-06 4.17520278e-06 7.13483246e-06 7.39985855e-06\n",
      " 6.53055253e-06 6.60343430e-06 7.53090333e-06 5.14656786e-06\n",
      " 3.56278937e-06 2.73496752e-06 2.82053014e-06 2.64523682e-06\n",
      " 1.54875893e-06 9.19078049e-07 8.18111299e-07 2.01404495e-06\n",
      " 3.91461938e-06 4.19231282e-06 2.92889309e-06 1.86180520e-06\n",
      " 9.70416511e-07 8.82292463e-07 7.27447520e-07 7.82040854e-07\n",
      " 1.21507362e-06 1.02167471e-06 1.37089522e-06 2.11004376e-06\n",
      " 2.16179690e-06 1.88400524e-06 1.41056073e-06 1.26417450e-06\n",
      " 1.06000942e-06 7.01298683e-07 4.71964545e-07 1.60897410e-07\n",
      " 2.55811575e-07 2.63282949e-07 4.52026869e-08 4.24267464e-07\n",
      " 8.69024871e-07 1.62205189e-06 2.21464895e-06 2.26386568e-06\n",
      " 1.51851012e-06 5.82933898e-07 2.73991109e-07 3.83015191e-07\n",
      " 7.91635483e-07 1.87423511e-06 1.57693318e-06 1.06732132e-06\n",
      " 9.94653789e-07 7.92069383e-07 5.53451284e-07 4.54832773e-07\n",
      " 1.09683181e-06 2.80473172e-06 4.91792573e-06 5.70524256e-06\n",
      " 6.39692148e-06 6.23475036e-06 5.86705545e-06 6.32271529e-06\n",
      " 6.98036833e-06 5.99104105e-06 3.03833428e-06 1.50286400e-06\n",
      " 5.11317963e-07 3.49978088e-07 4.47674770e-07 2.90805326e-07\n",
      " 8.94233671e-08 2.29319687e-08 8.27955914e-08 2.24130056e-07\n",
      " 8.61523230e-07 1.70453915e-06 2.44676336e-06 2.53283655e-06\n",
      " 1.78229941e-06 9.76372799e-07 1.34005126e-06 2.17735210e-06\n",
      " 2.42482477e-06 2.36487194e-06 3.20519356e-06 3.77918238e-06\n",
      " 2.56214444e-06 2.17756208e-06 1.35479237e-06 9.80603507e-07\n",
      " 1.26751774e-06 1.05321680e-06 4.05640975e-07 3.36912455e-07\n",
      " 8.89873622e-08 1.54063041e-07 2.29255736e-07 3.77089882e-07\n",
      " 5.38397627e-07 9.79791741e-07 1.35127044e-06 1.65214782e-06\n",
      " 2.15576718e-06 2.33138427e-06 1.76796125e-06 1.44865135e-06\n",
      " 1.47494132e-06 1.55088307e-06 1.82545228e-06 1.69489119e-06\n",
      " 1.99299589e-06 3.00790466e-06 3.53592363e-06 3.45353443e-06\n",
      " 4.91555070e-06 7.61150267e-06 8.72014365e-06 8.09888257e-06\n",
      " 7.00942765e-06 6.45073194e-06 6.47578907e-06 6.51147344e-06\n",
      " 7.11504363e-06 1.12418324e-05 1.19697249e-05 1.02454286e-05\n",
      " 1.10300899e-05 8.89845740e-06 6.41860831e-06 5.61882975e-06\n",
      " 5.10255045e-06 3.46629483e-06 1.62988185e-06 1.06289134e-06\n",
      " 2.19795033e-06 3.72609403e-06 3.40328259e-06 3.90102163e-06\n",
      " 4.23971776e-06 3.19351541e-06 2.07346172e-06 2.04169003e-06\n",
      " 1.24201482e-06 8.03615324e-07 5.87935183e-07 4.24480306e-07\n",
      " 3.93010491e-07 5.90010432e-07 9.58003462e-07 1.90681352e-06\n",
      " 4.80707626e-06 6.19990453e-06 5.90162907e-06 6.23731945e-06\n",
      " 6.13732069e-06 4.23082552e-06 3.60622470e-06 2.34479366e-06\n",
      " 1.02899676e-06 1.03849891e-06 1.35370405e-06 4.34326955e-07\n",
      " 8.02550282e-07 9.08285820e-07 9.94850200e-07 1.22015723e-06\n",
      " 2.21575652e-06 2.20165904e-06 3.64244339e-06 3.78224063e-06\n",
      " 5.07584201e-06 5.62013623e-06 6.16158344e-06 4.34725333e-06\n",
      " 2.22527059e-06 2.13020121e-06 1.82932391e-06 1.44159234e-06\n",
      " 1.80452567e-06 2.13267688e-06 1.80978481e-06 1.77157992e-06\n",
      " 1.60241896e-06 1.00374045e-06 9.40939144e-07 5.80154898e-07\n",
      " 8.36562731e-07 8.50554307e-07 6.05178186e-07 8.60108227e-07\n",
      " 1.14395490e-06 1.10513777e-06 5.15772564e-07 4.40217562e-07\n",
      " 6.66190812e-07 3.98494620e-07 2.22649250e-07 1.84038240e-07\n",
      " 2.32236795e-07 1.05661024e-07 2.24167517e-07 5.74375853e-07\n",
      " 8.01748156e-07 9.56112849e-07 8.37616429e-07 4.02109046e-07\n",
      " 3.28778632e-07 3.44413580e-07 3.84174463e-07 1.26093479e-06\n",
      " 1.43753999e-06 2.59350534e-06 3.89900170e-06 3.43602076e-06\n",
      " 2.65376318e-06 2.15725543e-06 9.34732771e-07 1.01998825e-06\n",
      " 3.07114127e-06 5.68519086e-06 8.23722657e-06 8.13861329e-06\n",
      " 5.61157504e-06 4.83708018e-06 3.48460957e-06 1.42473718e-06\n",
      " 8.34696666e-07 1.53106959e-06 2.36999326e-06 3.94115016e-06\n",
      " 6.77037416e-06 8.49496361e-06 1.13280466e-05 1.16477851e-05\n",
      " 7.67791187e-06 4.90276935e-06 4.07718166e-06 5.58579259e-06\n",
      " 7.37887883e-06 8.45663950e-06 8.51426751e-06 5.99933281e-06\n",
      " 4.57497406e-06 3.44946080e-06 3.50027699e-06 3.81032792e-06\n",
      " 3.11433805e-06 2.20416554e-06 2.36919618e-06 4.21793427e-06\n",
      " 4.54034805e-06 3.67099037e-06 3.80434274e-06 1.89522718e-06\n",
      " 1.19425600e-06 1.35261889e-06 2.71121205e-06 3.95012309e-06\n",
      " 2.92609793e-06 3.39940085e-06 2.50276945e-06 1.26242599e-06\n",
      " 4.60729476e-07 6.53595402e-07 1.45380555e-06 1.52281436e-06\n",
      " 1.45535202e-06 2.09216475e-06 2.86956675e-06 1.23580803e-06\n",
      " 7.55829868e-07 1.21621427e-06 1.61858772e-06 2.10392467e-06\n",
      " 4.14626702e-06 5.08579018e-06 4.94703239e-06 5.75963981e-06\n",
      " 5.36057915e-06 5.56469840e-06 8.00418301e-06 1.11092867e-05\n",
      " 1.16400103e-05 1.12698796e-05 8.44412111e-06 5.16945705e-06\n",
      " 4.34614907e-06 5.52977512e-06 7.27730885e-06 7.38110017e-06\n",
      " 9.83802000e-06 8.09061787e-06 3.74477277e-06 1.84227109e-06\n",
      " 5.92014890e-07 1.07074296e-07 1.17631508e-06 3.86781038e-06\n",
      " 5.54375121e-06 6.87680486e-06 7.49162928e-06 9.39237661e-06\n",
      " 1.84249261e-05 2.60025775e-05 2.48561723e-05 2.49896395e-05\n",
      " 1.91866284e-05 1.24376667e-05 1.04086425e-05 1.31711414e-05\n",
      " 1.80965094e-05 1.84354667e-05 1.76825858e-05 1.44543500e-05\n",
      " 1.05468802e-05 6.76692498e-06 3.12494087e-06 1.05748959e-06\n",
      " 3.51127734e-07 6.69134662e-07 1.43889054e-06 3.19119297e-06\n",
      " 4.89515474e-06 3.61183331e-06 3.74350849e-06 4.60232090e-06\n",
      " 4.76090837e-06 5.77637933e-06 8.49151078e-06 6.72786913e-06\n",
      " 2.57031687e-06]\n"
     ]
    }
   ],
   "source": [
    "x = train_data[4][0].squeeze()\n",
    "sf = 250\n",
    "\n",
    "low, high = 0.25, 4\n",
    "\n",
    "freqs, psd = sp.signal.welch(x, sf, nperseg=(4 * sf))\n",
    "\n",
    "# extract 5 main rhythms \n",
    "delta = psd[np.logical_and(freqs >= 0.25, freqs < 4)]\n",
    "theta = psd[np.logical_and(freqs >= 4, freqs < 8)]\n",
    "alpha = psd[np.logical_and(freqs >= 8, freqs < 12)]\n",
    "sigma = psd[np.logical_and(freqs >= 12, freqs < 16)]\n",
    "beta = psd[freqs >= 16] # for awake stage only \n",
    "print(delta)\n",
    "print(theta)\n",
    "print(alpha)\n",
    "print(sigma)\n",
    "print(beta)"
   ]
  },
  {
   "cell_type": "code",
   "execution_count": 449,
   "metadata": {},
   "outputs": [],
   "source": [
    "# Inception layer\n",
    "# Two 1D convolution layers in parallel concatenate at the end\n",
    "# Left and right filter amounts can be modified\n",
    "class Inception1D (layers.Layer):\n",
    "\n",
    "    def __init__ (self, left_filter, right_filter):\n",
    "        super(Inception1D, self).__init__()\n",
    "\n",
    "        # Left-side convolution\n",
    "        self.left_conv = layers.Conv1D(\n",
    "            filters=left_filter, \n",
    "            kernel_size=1,\n",
    "            padding='same',\n",
    "            activation='relu')\n",
    "\n",
    "        # Right-side convolution\n",
    "        self.right_conv = layers.Conv1D(\n",
    "            filters=right_filter, \n",
    "            kernel_size=3,\n",
    "            padding='same',\n",
    "            activation='relu')\n",
    "\n",
    "    def call (self, inputs, training=False):\n",
    "        left = self.left_conv(inputs)\n",
    "        right = self.right_conv(inputs)\n",
    "        x = layers.Concatenate()([left, right])\n",
    "        x = layers.MaxPooling1D()(x)\n",
    "        if training:\n",
    "            x = layers.SpatialDropout1D(0.1)(x)\n",
    "\n",
    "        return x"
   ]
  },
  {
   "cell_type": "code",
   "execution_count": 457,
   "metadata": {
    "colab": {
     "base_uri": "https://localhost:8080/"
    },
    "id": "yo5vb_3VJXKC",
    "outputId": "31a97c49-f62c-47b2-b045-5c6be97fe94d"
   },
   "outputs": [],
   "source": [
    "class PCNN (tf.keras.Model):\n",
    "    \n",
    "    def __init__ (self):\n",
    "        super(PCNN, self).__init__()\n",
    "        \n",
    "        self.EEG = [\n",
    "            #Inception1D(16, 16),\n",
    "            layers.Conv1D(\n",
    "                filters=128, \n",
    "                kernel_size=3,\n",
    "                activation='relu'),\n",
    "            #Inception1D(16, 16)\n",
    "            layers.Conv1D(\n",
    "                filters=128, \n",
    "                kernel_size=3,\n",
    "                activation='relu')\n",
    "        ]\n",
    "        \n",
    "        self.ANN = [\n",
    "            layers.Dense(64, activation='relu'),\n",
    "            layers.Dense(32, activation='relu'),\n",
    "            layers.Dense(5, activation='softmax')\n",
    "        ]\n",
    "    \n",
    "    def call (self, inputs, training=False):\n",
    "        eeg = inputs[:,0]\n",
    "        ecg = inputs[:,1]\n",
    "        \n",
    "        # Parallel convolutional networks\n",
    "        for conv in self.EEG:\n",
    "            eeg = conv(eeg)\n",
    "            ecg = conv(ecg)\n",
    "            \n",
    "        # Self-attention\n",
    "        eeg_attention = layers.Attention()([eeg, eeg])\n",
    "        ecg_attention = layers.Attention()([ecg, ecg])\n",
    "            \n",
    "        # Concatenate convolutional embedding\n",
    "        # Perform dropouts and batch normalization for ANN classifier\n",
    "        #eeg = layers.Concatenate()([eeg, eeg_attention])\n",
    "        #ecg = layers.Concatenate()([ecg, ecg_attention])\n",
    "        x = layers.Concatenate()([eeg, ecg])\n",
    "        x = layers.Flatten()(x)\n",
    "        \n",
    "        # Only include dropouts during trainning\n",
    "        if training:\n",
    "            x = layers.Dropout(0.5)(x)\n",
    "        \n",
    "        # Fully-connected classifier\n",
    "        for layer in self.ANN:\n",
    "            x = layer(x)\n",
    "            \n",
    "        return x\n",
    "        \n",
    "\n",
    "\n",
    "model = PCNN()\n",
    "\n",
    "# Compile the model\n",
    "model.compile(\n",
    "    optimizer = tf.keras.optimizers.Adam(0.001),\n",
    "    loss      = tf.keras.losses.CategoricalCrossentropy(),\n",
    "    metrics   = tf.keras.metrics.CategoricalAccuracy()\n",
    ")"
   ]
  },
  {
   "cell_type": "code",
   "execution_count": null,
   "metadata": {
    "colab": {
     "base_uri": "https://localhost:8080/"
    },
    "id": "H9Ll4Jj4SEDJ",
    "outputId": "f841a15f-02b0-4c4a-df0d-daf429e10294"
   },
   "outputs": [
    {
     "name": "stdout",
     "output_type": "stream",
     "text": [
      "Epoch 1/10\n",
      "30/30 [==============================] - 44s 1s/step - loss: 1.6455 - categorical_accuracy: 0.2688 - val_loss: 1.5324 - val_categorical_accuracy: 0.2873\n",
      "Epoch 2/10\n",
      "30/30 [==============================] - ETA: 0s - loss: 1.3379 - categorical_accuracy: 0.4448"
     ]
    }
   ],
   "source": [
    "# Train the neural network\n",
    "history = model.fit(\n",
    "    x               = train_data,\n",
    "    y               = utils.to_categorical(train_labels),\n",
    "    epochs          = 10,\n",
    "    validation_data = (\n",
    "        valid_data,\n",
    "        utils.to_categorical(valid_labels)\n",
    "    )\n",
    ")"
   ]
  },
  {
   "cell_type": "code",
   "execution_count": 437,
   "metadata": {
    "colab": {
     "base_uri": "https://localhost:8080/",
     "height": 300
    },
    "id": "sTZp9NLH94p1",
    "outputId": "23603d9c-6cb1-4840-8839-5ef177036029"
   },
   "outputs": [
    {
     "data": {
      "text/plain": [
       "<matplotlib.legend.Legend at 0x2772f052c70>"
      ]
     },
     "execution_count": 437,
     "metadata": {},
     "output_type": "execute_result"
    },
    {
     "data": {
      "image/png": "[encoded data removed]",
      "text/plain": [
       "<Figure size 432x288 with 1 Axes>"
      ]
     },
     "metadata": {
      "needs_background": "light"
     },
     "output_type": "display_data"
    }
   ],
   "source": [
    "# Graph training accuracy\n",
    "plt.plot(history.history['categorical_accuracy'], label='Training Accuracy')\n",
    "plt.plot(history.history['val_categorical_accuracy'], label='Validation Accuracy')\n",
    "plt.xlabel('Epoch')\n",
    "plt.ylabel('Accuracy')\n",
    "plt.ylim([0, 1])\n",
    "plt.legend(loc='lower right')"
   ]
  },
  {
   "cell_type": "code",
   "execution_count": 442,
   "metadata": {
    "id": "ik3D0W5PSP8v"
   },
   "outputs": [
    {
     "name": "stdout",
     "output_type": "stream",
     "text": [
      "97/97 [==============================] - 3s 28ms/step - loss: 2.2326 - categorical_accuracy: 0.3490\n"
     ]
    },
    {
     "data": {
      "text/plain": [
       "[2.23262357711792, 0.3490259647369385]"
      ]
     },
     "execution_count": 442,
     "metadata": {},
     "output_type": "execute_result"
    }
   ],
   "source": [
    "# Get validation accuracy of the network\n",
    "valid_data, valid_labels = create_dataset(valid_patients, diagnostic=False)\n",
    "model.evaluate(valid_data, utils.to_categorical(valid_labels))"
   ]
  },
  {
   "cell_type": "code",
   "execution_count": 443,
   "metadata": {},
   "outputs": [
    {
     "name": "stdout",
     "output_type": "stream",
     "text": [
      "97/97 [==============================] - 3s 29ms/step - loss: 2.2326 - categorical_accuracy: 0.3490\n"
     ]
    },
    {
     "data": {
      "text/plain": [
       "[2.23262357711792, 0.3490259647369385]"
      ]
     },
     "execution_count": 443,
     "metadata": {},
     "output_type": "execute_result"
    }
   ],
   "source": [
    "# Get accuracy of the network\n",
    "test_data, test_labels = create_dataset(valid_patients, diagnostic=False)\n",
    "model.evaluate(test_data, utils.to_categorical(test_labels))"
   ]
  },
  {
   "cell_type": "code",
   "execution_count": null,
   "metadata": {
    "id": "kpfOB_6t6B0k"
   },
   "outputs": [],
   "source": [
    "# implementing the class of conv net -- incompleted\n",
    "class CNN_sleep_stages(tf.Module):\n",
    "  def __init__(self, number_of_channels = , number_of_classes =):\n",
    "    self.conv1 = models.Sequential(layers.Conv2D(, (, ), activation='relu', input_shape=(, , )))\n",
    "    self.conv2 = models.Sequential(layers.Conv2D(, (, ), activation='relu'))\n",
    "    self.pool =  models.Sequential(layers.MaxPool2D( 2 , 2 ))\n",
    "    self.flat = models.Sequential(layers.Flatten())\n",
    "    self.dense = models.Sequential(layers.Dense(, activation = 'Sigmoid'))\n",
    "  \n",
    "  def __call__(self, x):\n",
    "    x = self.pool(self.conv1(x))\n",
    "    return x\n",
    "\n",
    "# Could improve the accuracy by:\n",
    "# 1. Increasing the depth (adding more convolutional layer)\n",
    "# 2. Adding dropout layer\n",
    "# 3. Add fully-connected layers\n",
    "# 4. Strides? Padding?"
   ]
  },
  {
   "cell_type": "code",
   "execution_count": null,
   "metadata": {},
   "outputs": [],
   "source": []
  },
  {
   "cell_type": "code",
   "execution_count": null,
   "metadata": {},
   "outputs": [],
   "source": []
  }
 ],
 "metadata": {
  "colab": {
   "collapsed_sections": [],
   "name": "Rough Implementation",
   "provenance": []
  },
  "kernelspec": {
   "display_name": "Python 3 (ipykernel)",
   "language": "python",
   "name": "python3"
  },
  "language_info": {
   "codemirror_mode": {
    "name": "ipython",
    "version": 3
   },
   "file_extension": ".py",
   "mimetype": "text/x-python",
   "name": "python",
   "nbconvert_exporter": "python",
   "pygments_lexer": "ipython3",
   "version": "3.9.12"
  }
 },
 "nbformat": 4,
 "nbformat_minor": 1
}
