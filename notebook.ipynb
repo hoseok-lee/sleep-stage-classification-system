{
  "nbformat": 4,
  "nbformat_minor": 0,
  "metadata": {
    "colab": {
      "name": "Rough Implementation",
      "provenance": [],
      "collapsed_sections": []
    },
    "kernelspec": {
      "name": "python3",
      "display_name": "Python 3"
    },
    "language_info": {
      "name": "python"
    }
  },
  "cells": [
    {
      "cell_type": "markdown",
      "metadata": {
        "id": "BnlLdtj3lHBl"
      },
      "source": [
        "Download database."
      ]
    },
    {
      "cell_type": "code",
      "metadata": {
        "id": "pWA6eCrwiq2p"
      },
      "source": [
        "!wget -r -N -c -np -q https://physionet.org/files/slpdb/1.0.0/"
      ],
      "execution_count": null,
      "outputs": []
    },
    {
      "cell_type": "markdown",
      "metadata": {
        "id": "bn4kzr6KmE6B"
      },
      "source": [
        "Download libraries."
      ]
    },
    {
      "cell_type": "code",
      "metadata": {
        "id": "BtOCDXRemGNN",
        "colab": {
          "base_uri": "https://localhost:8080/"
        },
        "outputId": "3bef8850-c9d9-4779-d9d8-a2948f9e65bb"
      },
      "source": [
        "!pip install -q wfdb\n",
        "!python -m pip uninstall -q matplotlib\n",
        "!pip install -q matplotlib==3.1.3"
      ],
      "execution_count": null,
      "outputs": [
        {
          "output_type": "stream",
          "name": "stdout",
          "text": [
            "\u001b[K     |████████████████████████████████| 137 kB 7.3 MB/s \n",
            "\u001b[K     |████████████████████████████████| 11.2 MB 54.3 MB/s \n",
            "\u001b[31mERROR: pip's dependency resolver does not currently take into account all the packages that are installed. This behaviour is the source of the following dependency conflicts.\n",
            "albumentations 0.1.12 requires imgaug<0.2.7,>=0.2.5, but you have imgaug 0.2.9 which is incompatible.\u001b[0m\n",
            "\u001b[?25hProceed (y/n)? y\n",
            "\u001b[K     |████████████████████████████████| 13.1 MB 7.6 MB/s \n",
            "\u001b[31mERROR: pip's dependency resolver does not currently take into account all the packages that are installed. This behaviour is the source of the following dependency conflicts.\n",
            "wfdb 3.4.1 requires matplotlib>=3.3.4, but you have matplotlib 3.1.3 which is incompatible.\n",
            "albumentations 0.1.12 requires imgaug<0.2.7,>=0.2.5, but you have imgaug 0.2.9 which is incompatible.\u001b[0m\n",
            "\u001b[?25h"
          ]
        }
      ]
    },
    {
      "cell_type": "markdown",
      "metadata": {
        "id": "XTUxPlAylstP"
      },
      "source": [
        "Import libraries."
      ]
    },
    {
      "cell_type": "code",
      "metadata": {
        "id": "lZt8rqnwluy1"
      },
      "source": [
        "# For reading database\n",
        "import wfdb\n",
        "import os\n",
        "import copy\n",
        "import numpy as np\n",
        "import scipy as sp\n",
        "from tensorflow.keras import models, layers\n",
        "from tensorflow.keras import utils\n",
        "import matplotlib.pyplot as plt\n",
        "import librosa\n",
        "import librosa.display\n",
        "\n",
        "np.random.seed(1)"
      ],
      "execution_count": null,
      "outputs": []
    },
    {
      "cell_type": "markdown",
      "metadata": {
        "id": "CP7JEBwSmfCj"
      },
      "source": [
        "## **1. Import Database**\n",
        "Accessing data and basic data processing.\n"
      ]
    },
    {
      "cell_type": "code",
      "metadata": {
        "id": "uBcKJYsz5jo5"
      },
      "source": [
        "class PatientData (object):\n",
        "    ECG_signal = None\n",
        "    EEG_signal = None\n",
        "    sleep_stages = None\n",
        "\n",
        "    record_length = None\n",
        "    sampling_frequency = None\n",
        "\n",
        "    def __init__ (self, patient_name):\n",
        "        self.patient_name = patient_name"
      ],
      "execution_count": null,
      "outputs": []
    },
    {
      "cell_type": "code",
      "metadata": {
        "id": "acnTzNBz3co0"
      },
      "source": [
        "DATABASE_PATH = 'physionet.org/files/slpdb/1.0.0'\n",
        "\n",
        "with open(os.path.join(DATABASE_PATH, 'RECORDS'), 'r') as file:\n",
        "    PATIENT_NAMES = file.read().split('\\n')[:-1]\n",
        "  \n",
        "PATIENTS = {\n",
        "    patient_name: PatientData(patient_name)\n",
        "    for patient_name in PATIENT_NAMES\n",
        "}"
      ],
      "execution_count": null,
      "outputs": []
    },
    {
      "cell_type": "code",
      "metadata": {
        "id": "q4tscNYw7RCf"
      },
      "source": [
        "# 0 Awake\n",
        "# 1 NREM stage 1\n",
        "# 2 NREM stage 2\n",
        "# 3 NREM stage 3 and 4\n",
        "# 4 REM\n",
        "def annotation_sleep_stage (annotation):\n",
        "    if annotation.startswith('W'):\n",
        "        return 0\n",
        "    elif annotation.startswith('1'):\n",
        "        return 1\n",
        "    elif annotation.startswith('2'):\n",
        "        return 2\n",
        "    elif annotation.startswith('3') or annotation.startswith('4'):\n",
        "        return 3\n",
        "    elif annotation.startswith('R'):\n",
        "        return 4\n",
        "    # Ideally, all annotations are classified into one of the above 5\n",
        "    else:\n",
        "        return -1\n",
        "\n",
        "# Since annotations only have labels and the time at which they occur,\n",
        "# interpolate all the data so there's always a label at each time step\n",
        "def step_interpolation (data, locations, total_length):\n",
        "    step_interpolated_data = np.zeros(total_length)\n",
        "\n",
        "    for i in range(len(locations) - 1):\n",
        "        start_range = locations[i]\n",
        "        end_range = locations[i + 1]\n",
        "\n",
        "        # Convert string annotation into sleep stage\n",
        "        step_interpolated_data[(start_range - 1) : end_range] = annotation_sleep_stage(data[i])\n",
        "\n",
        "    return step_interpolated_data"
      ],
      "execution_count": null,
      "outputs": []
    },
    {
      "cell_type": "code",
      "metadata": {
        "id": "x15jx_LYmmA6"
      },
      "source": [
        "for patient_name in PATIENT_NAMES:\n",
        "    patient = PATIENTS[patient_name]\n",
        "\n",
        "    # Retrieve raw signals and annotations\n",
        "    record_path = os.path.join(DATABASE_PATH, patient_name)\n",
        "    record = wfdb.io.rdrecord(record_path)\n",
        "    annotation = wfdb.rdann(record_path, extension='st')\n",
        "\n",
        "    # Sampling frequency\n",
        "    # This might differ for each record\n",
        "    patient.sampling_frequency = record.fs\n",
        "\n",
        "    # 0 ECG\n",
        "    # 1 BP\n",
        "    # 2 EEG\n",
        "    # 3 Resp (not available for all)\n",
        "    patient.ECG_signal = record.p_signal[:, 0]\n",
        "    patient.EEG_signal = record.p_signal[:, 2]\n",
        "    patient.record_length = record.sig_len\n",
        "\n",
        "    patient.sleep_stages = step_interpolation(annotation.aux_note, annotation.sample, patient.record_length)"
      ],
      "execution_count": null,
      "outputs": []
    },
    {
      "cell_type": "code",
      "metadata": {
        "id": "DUsBEQGz7wL5",
        "colab": {
          "base_uri": "https://localhost:8080/"
        },
        "outputId": "b45f5740-7388-456e-ff70-778b5f800c16"
      },
      "source": [
        "# Example patient\n",
        "patient_slp01a = PATIENTS['slp01a']\n",
        "print(patient_slp01a.ECG_signal)\n",
        "print(patient_slp01a.EEG_signal)\n",
        "print(patient_slp01a.sleep_stages)\n"
      ],
      "execution_count": null,
      "outputs": [
        {
          "output_type": "stream",
          "name": "stdout",
          "text": [
            "[0.085 0.08  0.125 ... 0.23  0.235 0.225]\n",
            "[-0.03919129 -0.03888025 -0.03856921 ...  0.14727838  0.14681182\n",
            "  0.14261275]\n",
            "[3. 3. 3. ... 0. 0. 0.]\n"
          ]
        }
      ]
    },
    {
      "cell_type": "code",
      "metadata": {
        "id": "G2eqrZjt0K4Z"
      },
      "source": [
        "# Splitting the dataset into train, validation, test set\n",
        "# Will be split in terms of patients, not sleep data\n",
        "num_patients = len(PATIENTS)\n",
        "\n",
        "# Shuffle patients\n",
        "randomized_patients = copy.deepcopy(list(PATIENTS.keys()))\n",
        "np.random.shuffle(randomized_patients)\n",
        "\n",
        "# 80 / 10 / 10 split of 18 patients will be roughly 14 / 2 / 2\n",
        "# Don't need test_end, since it'll be until the end of data\n",
        "train_end = 14\n",
        "valid_end = train_end + 2\n",
        "\n",
        "# Split data using keys\n",
        "train_patients = randomized_patients[ : train_end]\n",
        "valid_patients = randomized_patients[train_end : valid_end]\n",
        "test_patients = randomized_patients[valid_end : ]"
      ],
      "execution_count": null,
      "outputs": []
    },
    {
      "cell_type": "markdown",
      "metadata": {
        "id": "EYu2d3lFn33a"
      },
      "source": [
        "## **2. Building the Neural Network**"
      ]
    },
    {
      "cell_type": "code",
      "metadata": {
        "id": "Qg5OQRmCiwjt",
        "colab": {
          "base_uri": "https://localhost:8080/",
          "height": 300
        },
        "outputId": "a5e5c5ae-fd02-476d-dbe8-805336effc1b"
      },
      "source": [
        "# Sample data to test out CNN\n",
        "sample_patient = PATIENTS[train_patients[0]]\n",
        "\n",
        "# One batch is 30 seconds of EEG and ECG data\n",
        "num_samples_in_one_second = float(1 / sample_patient.sampling_frequency)\n",
        "num_samples_in_one_datum = int(30 / num_samples_in_one_second)\n",
        "\n",
        "# Calculate MFCC's for ECG only\n",
        "sample_ECG_MFCC = librosa.feature.melspectrogram(\n",
        "    y=librosa.to_mono(sample_patient.ECG_signal[ : num_samples_in_one_datum]), \n",
        "    sr=sample_patient.sampling_frequency)\n",
        "\n",
        "sample_ECG_MFCC_db = librosa.power_to_db(sample_ECG_MFCC)\n",
        "librosa.display.specshow(\n",
        "    sample_ECG_MFCC_db, \n",
        "    x_axis='time', \n",
        "    y_axis='mel', \n",
        "    sr=sample_patient.sampling_frequency)"
      ],
      "execution_count": null,
      "outputs": [
        {
          "output_type": "execute_result",
          "data": {
            "text/plain": [
              "<matplotlib.collections.QuadMesh at 0x7f51b5714c50>"
            ]
          },
          "metadata": {},
          "execution_count": 14
        },
        {
          "output_type": "display_data",
          "data": {
            "image/png": "[encoded data removed]",
            "text/plain": [
              "<Figure size 432x288 with 1 Axes>"
            ]
          },
          "metadata": {
            "needs_background": "light"
          }
        }
      ]
    },
    {
      "cell_type": "code",
      "metadata": {
        "id": "D--JGvLr1E9b",
        "colab": {
          "base_uri": "https://localhost:8080/"
        },
        "outputId": "b3cc854c-c876-4776-b148-750889344129"
      },
      "source": [
        "train_data = None\n",
        "train_labels = None\n",
        "\n",
        "for patient_name in train_patients:\n",
        "    # Get training data for one patient\n",
        "    print(\"Batching {} patient data...\".format(patient_name))\n",
        "    patient = PATIENTS[patient_name]\n",
        "\n",
        "    # Calculate total number of samples for this patient\n",
        "    num_samples_in_one_second = float(1 / patient.sampling_frequency)\n",
        "    num_samples_in_one_datum = int(30 / num_samples_in_one_second)\n",
        "    total_num_samples = int(patient.EEG_signal.shape[0] / num_samples_in_one_datum)\n",
        "\n",
        "    for i in range(total_num_samples):\n",
        "        # Determine start and end of current batch\n",
        "        start = (i * num_samples_in_one_datum)\n",
        "        end = ((i + 1) * num_samples_in_one_datum)\n",
        "        \n",
        "        EEG_MFCC = librosa.feature.melspectrogram(\n",
        "            y=patient.EEG_signal[start : end], \n",
        "            sr=patient.sampling_frequency)\n",
        "        ECG_MFCC = librosa.feature.melspectrogram(\n",
        "            y=patient.ECG_signal[start : end], \n",
        "            sr=patient.sampling_frequency)\n",
        "        \n",
        "        sample = np.expand_dims(\n",
        "            np.stack([ EEG_MFCC, ECG_MFCC ], axis=2), \n",
        "            axis=0)\n",
        "        \n",
        "        # Only grab the label at the end of the current batch\n",
        "        # This is such that we're using all of the data in the current batch\n",
        "        # in order to predict the sleep stage by the end of the batch\n",
        "        sample_labels = np.array([ patient.sleep_stages[end - 1] ])\n",
        "\n",
        "        if train_data is None:\n",
        "            train_data = sample\n",
        "            train_labels = sample_labels\n",
        "        else:\n",
        "            train_data = np.append(train_data, sample, axis=0)\n",
        "            train_labels = np.append(train_labels, sample_labels, axis=0)\n",
        "\n",
        "    break\n",
        "\n",
        "print(train_data.shape)\n",
        "print(train_labels.shape)"
      ],
      "execution_count": null,
      "outputs": [
        {
          "output_type": "stream",
          "name": "stdout",
          "text": [
            "Batching slp14 patient data...\n",
            "(720, 128, 15, 2)\n",
            "(720,)\n"
          ]
        }
      ]
    },
    {
      "cell_type": "code",
      "metadata": {
        "id": "yo5vb_3VJXKC",
        "colab": {
          "base_uri": "https://localhost:8080/"
        },
        "outputId": "31a97c49-f62c-47b2-b045-5c6be97fe94d"
      },
      "source": [
        "filter_size = 3\n",
        "pool_size = 2\n",
        "\n",
        "width, height = sample_EEG_MFCC.shape\n",
        "\n",
        "model = models.Sequential([\n",
        "    layers.Conv2D(16, (filter_size, filter_size), activation='relu', input_shape=(width, height, 2)),\n",
        "    layers.MaxPooling2D((pool_size, pool_size)),\n",
        "\n",
        "    layers.Flatten(), \n",
        "    layers.Dense(32, activation='relu'),\n",
        "    layers.Dense(5, activation='softmax')\n",
        "])\n",
        "\n",
        "# Compile the model\n",
        "model.compile(\n",
        "    optimizer = 'adam',\n",
        "    loss='categorical_crossentropy',\n",
        "    metrics=['accuracy'],\n",
        ")\n",
        "\n",
        "model.summary()"
      ],
      "execution_count": null,
      "outputs": [
        {
          "output_type": "stream",
          "name": "stdout",
          "text": [
            "Model: \"sequential_21\"\n",
            "_________________________________________________________________\n",
            " Layer (type)                Output Shape              Param #   \n",
            "=================================================================\n",
            " conv2d_25 (Conv2D)          (None, 126, 13, 16)       304       \n",
            "                                                                 \n",
            " max_pooling2d_25 (MaxPoolin  (None, 63, 6, 16)        0         \n",
            " g2D)                                                            \n",
            "                                                                 \n",
            " flatten_21 (Flatten)        (None, 6048)              0         \n",
            "                                                                 \n",
            " dense_33 (Dense)            (None, 32)                193568    \n",
            "                                                                 \n",
            " dense_34 (Dense)            (None, 5)                 165       \n",
            "                                                                 \n",
            "=================================================================\n",
            "Total params: 194,037\n",
            "Trainable params: 194,037\n",
            "Non-trainable params: 0\n",
            "_________________________________________________________________\n"
          ]
        }
      ]
    },
    {
      "cell_type": "code",
      "metadata": {
        "id": "H9Ll4Jj4SEDJ",
        "colab": {
          "base_uri": "https://localhost:8080/"
        },
        "outputId": "f841a15f-02b0-4c4a-df0d-daf429e10294"
      },
      "source": [
        "# Train the neural network\n",
        "\n",
        "history = model.fit(\n",
        "  train_data,\n",
        "  utils.to_categorical(train_labels),\n",
        "  epochs=10\n",
        ")"
      ],
      "execution_count": null,
      "outputs": [
        {
          "output_type": "stream",
          "name": "stdout",
          "text": [
            "Epoch 1/10\n",
            "23/23 [==============================] - 1s 22ms/step - loss: 74.5527 - accuracy: 0.3708\n",
            "Epoch 2/10\n",
            "23/23 [==============================] - 1s 23ms/step - loss: 16.1546 - accuracy: 0.4625\n",
            "Epoch 3/10\n",
            "23/23 [==============================] - 1s 23ms/step - loss: 6.9155 - accuracy: 0.5097\n",
            "Epoch 4/10\n",
            "23/23 [==============================] - 1s 24ms/step - loss: 6.5024 - accuracy: 0.5292\n",
            "Epoch 5/10\n",
            "23/23 [==============================] - 0s 22ms/step - loss: 6.3370 - accuracy: 0.5639\n",
            "Epoch 6/10\n",
            "23/23 [==============================] - 1s 22ms/step - loss: 3.7056 - accuracy: 0.6208\n",
            "Epoch 7/10\n",
            "23/23 [==============================] - 1s 22ms/step - loss: 2.7439 - accuracy: 0.6583\n",
            "Epoch 8/10\n",
            "23/23 [==============================] - 1s 22ms/step - loss: 2.8829 - accuracy: 0.6653\n",
            "Epoch 9/10\n",
            "23/23 [==============================] - 1s 22ms/step - loss: 2.9876 - accuracy: 0.6361\n",
            "Epoch 10/10\n",
            "23/23 [==============================] - 1s 22ms/step - loss: 3.2233 - accuracy: 0.6139\n"
          ]
        }
      ]
    },
    {
      "cell_type": "code",
      "metadata": {
        "colab": {
          "base_uri": "https://localhost:8080/",
          "height": 300
        },
        "id": "sTZp9NLH94p1",
        "outputId": "23603d9c-6cb1-4840-8839-5ef177036029"
      },
      "source": [
        "# Graph training accuracy\n",
        "plt.plot(history.history['accuracy'], label='accuracy')\n",
        "plt.xlabel('epoch')\n",
        "plt.ylabel('accuracy')\n",
        "plt.ylim([0, 1])\n",
        "plt.legend(loc='lower right')"
      ],
      "execution_count": null,
      "outputs": [
        {
          "output_type": "execute_result",
          "data": {
            "text/plain": [
              "<matplotlib.legend.Legend at 0x7f7ad778bb90>"
            ]
          },
          "metadata": {},
          "execution_count": 90
        },
        {
          "output_type": "display_data",
          "data": {
            "image/png": "[encoded data removed]",
            "text/plain": [
              "<Figure size 432x288 with 1 Axes>"
            ]
          },
          "metadata": {
            "needs_background": "light"
          }
        }
      ]
    },
    {
      "cell_type": "code",
      "metadata": {
        "id": "ik3D0W5PSP8v"
      },
      "source": [
        "# Get accuracy of the network\n",
        "model.evaluate(validation_data)"
      ],
      "execution_count": null,
      "outputs": []
    },
    {
      "cell_type": "code",
      "metadata": {
        "id": "kpfOB_6t6B0k"
      },
      "source": [
        "# implementing the class of conv net -- incompleted\n",
        "class CNN_sleep_stages(tf.Module):\n",
        "  def __init__(self, number_of_channels = , number_of_classes =):\n",
        "    self.conv1 = models.Sequential(layers.Conv2D(, (, ), activation='relu', input_shape=(, , )))\n",
        "    self.conv2 = models.Sequential(layers.Conv2D(, (, ), activation='relu'))\n",
        "    self.pool =  models.Sequential(layers.MaxPool2D( 2 , 2 ))\n",
        "    self.flat = models.Sequential(layers.Flatten())\n",
        "    self.dense = models.Sequential(layers.Dense(, activation = 'Sigmoid'))\n",
        "  \n",
        "  def __call__(self, x):\n",
        "    x = self.pool(self.conv1(x))\n",
        "    return x\n",
        "\n",
        "# Could improve the accuracy by:\n",
        "# 1. Increasing the depth (adding more convolutional layer)\n",
        "# 2. Adding dropout layer\n",
        "# 3. Add fully-connected layers\n",
        "# 4. Strides? Padding?"
      ],
      "execution_count": null,
      "outputs": []
    }
  ]
}