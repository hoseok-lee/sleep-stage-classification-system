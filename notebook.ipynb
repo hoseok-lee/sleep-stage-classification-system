{
 "cells": [
  {
   "cell_type": "markdown",
   "metadata": {
    "id": "BnlLdtj3lHBl"
   },
   "source": [
    "Download database if database does not exist."
   ]
  },
  {
   "cell_type": "code",
   "execution_count": 2,
   "metadata": {},
   "outputs": [],
   "source": [
    "![ ! -d \"physionet.org\" ] && wget -r -N -c -np -q https://physionet.org/files/slpdb/1.0.0/"
   ]
  },
  {
   "cell_type": "markdown",
   "metadata": {
    "id": "bn4kzr6KmE6B"
   },
   "source": [
    "Download libraries."
   ]
  },
  {
   "cell_type": "code",
   "execution_count": 3,
   "metadata": {
    "colab": {
     "base_uri": "https://localhost:8080/"
    },
    "id": "BtOCDXRemGNN",
    "outputId": "3bef8850-c9d9-4779-d9d8-a2948f9e65bb",
    "scrolled": false
   },
   "outputs": [
    {
     "name": "stdout",
     "output_type": "stream",
     "text": [
      "\u001b[33mDEPRECATION: Configuring installation scheme with distutils config files is deprecated and will no longer work in the near future. If you are using a Homebrew or Linuxbrew Python, please see discussion at https://github.com/Homebrew/homebrew-core/issues/76621\u001b[0m\u001b[33m\n",
      "\u001b[0m\u001b[33mWARNING: Ignoring invalid distribution -atplotlib (/usr/local/lib/python3.9/site-packages)\u001b[0m\u001b[33m\n",
      "\u001b[0m\u001b[33mWARNING: Ignoring invalid distribution -atplotlib (/usr/local/lib/python3.9/site-packages)\u001b[0m\u001b[33m\n",
      "\u001b[0mRequirement already satisfied: pip in /usr/local/lib/python3.9/site-packages (22.0.4)\n",
      "\u001b[33mWARNING: Ignoring invalid distribution -atplotlib (/usr/local/lib/python3.9/site-packages)\u001b[0m\u001b[33m\n",
      "\u001b[0m\u001b[33mDEPRECATION: Configuring installation scheme with distutils config files is deprecated and will no longer work in the near future. If you are using a Homebrew or Linuxbrew Python, please see discussion at https://github.com/Homebrew/homebrew-core/issues/76621\u001b[0m\u001b[33m\n",
      "\u001b[0m\u001b[33mWARNING: Ignoring invalid distribution -atplotlib (/usr/local/lib/python3.9/site-packages)\u001b[0m\u001b[33m\n",
      "\u001b[0m\u001b[33mWARNING: Ignoring invalid distribution -atplotlib (/usr/local/lib/python3.9/site-packages)\u001b[0m\u001b[33m\n",
      "\u001b[0m\u001b[33mWARNING: Ignoring invalid distribution -atplotlib (/usr/local/lib/python3.9/site-packages)\u001b[0m\u001b[33m\n",
      "\u001b[0m\u001b[33mWARNING: Ignoring invalid distribution -atplotlib (/usr/local/lib/python3.9/site-packages)\u001b[0m\u001b[33m\n",
      "\u001b[0m\u001b[33mWARNING: Ignoring invalid distribution -atplotlib (/usr/local/lib/python3.9/site-packages)\u001b[0m\u001b[33m\n",
      "\u001b[0m\u001b[33mWARNING: Ignoring invalid distribution -atplotlib (/usr/local/lib/python3.9/site-packages)\u001b[0m\u001b[33m\n",
      "\u001b[0m\u001b[33mWARNING: Ignoring invalid distribution -atplotlib (/usr/local/lib/python3.9/site-packages)\u001b[0m\u001b[33m\n",
      "\u001b[0m\u001b[33mWARNING: Ignoring invalid distribution -atplotlib (/usr/local/lib/python3.9/site-packages)\u001b[0m\u001b[33m\n",
      "\u001b[0m\u001b[33mWARNING: Ignoring invalid distribution -atplotlib (/usr/local/lib/python3.9/site-packages)\u001b[0m\u001b[33m\n",
      "\u001b[0m\u001b[33mWARNING: Ignoring invalid distribution -atplotlib (/usr/local/lib/python3.9/site-packages)\u001b[0m\u001b[33m\n",
      "\u001b[0m\u001b[33mWARNING: Ignoring invalid distribution -atplotlib (/usr/local/lib/python3.9/site-packages)\u001b[0m\u001b[33m\n",
      "\u001b[0m\u001b[33mWARNING: Ignoring invalid distribution -atplotlib (/usr/local/lib/python3.9/site-packages)\u001b[0m\u001b[33m\n",
      "\u001b[0m"
     ]
    }
   ],
   "source": [
    "import sys\n",
    "!{sys.executable} -m pip install --upgrade pip\n",
    "!{sys.executable} -m pip install -q wfdb tinymlgen --user\n",
    "!{sys.executable} -m pip install -q matplotlib==3.1.3 --user"
   ]
  },
  {
   "cell_type": "markdown",
   "metadata": {
    "id": "XTUxPlAylstP"
   },
   "source": [
    "Import libraries and set random seed."
   ]
  },
  {
   "cell_type": "code",
   "execution_count": 4,
   "metadata": {
    "id": "lZt8rqnwluy1"
   },
   "outputs": [],
   "source": [
    "# For reading database\n",
    "import wfdb\n",
    "import os\n",
    "import copy\n",
    "import numpy as np\n",
    "import scipy as sp\n",
    "from scipy import signal\n",
    "from scipy.integrate import simps\n",
    "import tensorflow as tf\n",
    "from tensorflow.keras import models, layers\n",
    "from tensorflow.keras import utils\n",
    "import matplotlib.pyplot as plt\n",
    "\n",
    "np.random.seed(1)\n",
    "tf.random.set_seed(1)"
   ]
  },
  {
   "cell_type": "markdown",
   "metadata": {
    "id": "CP7JEBwSmfCj"
   },
   "source": [
    "## **1. Import Database**\n",
    "Accessing data and basic data processing.\n"
   ]
  },
  {
   "cell_type": "code",
   "execution_count": 5,
   "metadata": {
    "id": "uBcKJYsz5jo5"
   },
   "outputs": [],
   "source": [
    "class PatientData (object):\n",
    "    ECG_signal = None\n",
    "    EEG_signal = None\n",
    "    sleep_stages = None\n",
    "\n",
    "    record_length = None\n",
    "    sampling_frequency = None\n",
    "\n",
    "    def __init__ (self, patient_name):\n",
    "        self.patient_name = patient_name"
   ]
  },
  {
   "cell_type": "code",
   "execution_count": 6,
   "metadata": {
    "id": "acnTzNBz3co0"
   },
   "outputs": [],
   "source": [
    "DATABASE_PATH = 'physionet.org/files/slpdb/1.0.0'\n",
    "\n",
    "with open(os.path.join(DATABASE_PATH, 'RECORDS'), 'r') as file:\n",
    "    PATIENT_NAMES = file.read().split('\\n')[:-1]\n",
    "  \n",
    "PATIENTS = {\n",
    "    patient_name: PatientData(patient_name)\n",
    "    for patient_name in PATIENT_NAMES\n",
    "}"
   ]
  },
  {
   "cell_type": "code",
   "execution_count": 7,
   "metadata": {
    "id": "q4tscNYw7RCf"
   },
   "outputs": [],
   "source": [
    "# 0 Awake\n",
    "# 1 NREM stage 1\n",
    "# 2 NREM stage 2\n",
    "# 3 NREM stage 3 and 4\n",
    "# 4 REM\n",
    "# 5 Movement time (unknown)\n",
    "\n",
    "SLEEP_STAGES = {\n",
    "    \"W\": 0,\n",
    "    \"1\": 1,\n",
    "    \"2\": 2,\n",
    "    \"3\": 3,\n",
    "    \"4\": 3,\n",
    "    \"R\": 4,\n",
    "    \"M\": 5\n",
    "}\n",
    "\n",
    "NUM_CLASSES = 6"
   ]
  },
  {
   "cell_type": "code",
   "execution_count": 8,
   "metadata": {},
   "outputs": [],
   "source": [
    "# Since annotations only have labels and the time at which they occur,\n",
    "# interpolate all the data so there's always a label at each time step\n",
    "def step_interpolation (data, locations, total_length):\n",
    "    step_interpolated_data = np.zeros(total_length)\n",
    "\n",
    "    for i in range(len(locations) - 1):\n",
    "        start_range = locations[i]\n",
    "        end_range = locations[i + 1]\n",
    "\n",
    "        # Convert string annotation into sleep stage\n",
    "        step_interpolated_data[(start_range - 1) : end_range] = SLEEP_STAGES[data[i][0]]\n",
    "\n",
    "    return step_interpolated_data"
   ]
  },
  {
   "cell_type": "code",
   "execution_count": 9,
   "metadata": {
    "id": "x15jx_LYmmA6"
   },
   "outputs": [],
   "source": [
    "for patient_name in PATIENT_NAMES:\n",
    "    patient = PATIENTS[patient_name]\n",
    "\n",
    "    # Retrieve raw signals and annotations\n",
    "    record_path = os.path.join(DATABASE_PATH, patient_name)\n",
    "    record = wfdb.io.rdrecord(record_path)\n",
    "    annotation = wfdb.rdann(record_path, extension='st')\n",
    "\n",
    "    # Sampling frequency\n",
    "    # This might differ for each record\n",
    "    patient.sampling_frequency = record.fs\n",
    "\n",
    "    # 0 ECG\n",
    "    # 1 BP\n",
    "    # 2 EEG\n",
    "    # 3 Resp (not available for all)\n",
    "    patient.ECG_signal = record.p_signal[:, 0]\n",
    "    patient.EEG_signal = record.p_signal[:, 2]\n",
    "    patient.record_length = record.sig_len\n",
    "\n",
    "    patient.sleep_stages = step_interpolation(annotation.aux_note, annotation.sample, patient.record_length)"
   ]
  },
  {
   "cell_type": "code",
   "execution_count": 10,
   "metadata": {
    "colab": {
     "base_uri": "https://localhost:8080/"
    },
    "id": "DUsBEQGz7wL5",
    "outputId": "b45f5740-7388-456e-ff70-778b5f800c16"
   },
   "outputs": [
    {
     "name": "stdout",
     "output_type": "stream",
     "text": [
      "[0.085 0.08  0.125 ... 0.23  0.235 0.225]\n",
      "[-0.03919129 -0.03888025 -0.03856921 ...  0.14727838  0.14681182\n",
      "  0.14261275]\n",
      "[3. 3. 3. ... 0. 0. 0.]\n"
     ]
    }
   ],
   "source": [
    "# Example patient\n",
    "patient_slp01a = PATIENTS['slp01a']\n",
    "print(patient_slp01a.ECG_signal)\n",
    "print(patient_slp01a.EEG_signal)\n",
    "print(patient_slp01a.sleep_stages)"
   ]
  },
  {
   "cell_type": "code",
   "execution_count": 11,
   "metadata": {
    "id": "G2eqrZjt0K4Z"
   },
   "outputs": [],
   "source": [
    "# Splitting the dataset into train, validation, test set\n",
    "# Will be split in terms of patients, not sleep data\n",
    "num_patients = len(PATIENTS)\n",
    "\n",
    "# Shuffle patients\n",
    "randomized_patients = copy.deepcopy(PATIENT_NAMES)\n",
    "np.random.shuffle(randomized_patients)\n",
    "\n",
    "# 80 / 10 / 10 split of 18 patients will be roughly 14 / 2 / 2\n",
    "# Don't need test_end, since it'll be until the end of data\n",
    "train_end = 14\n",
    "valid_end = train_end + 2\n",
    "\n",
    "# Split data using keys\n",
    "train_patients = randomized_patients[ : train_end]\n",
    "valid_patients = randomized_patients[train_end : valid_end]\n",
    "test_patients = randomized_patients[valid_end : ]"
   ]
  },
  {
   "cell_type": "code",
   "execution_count": 12,
   "metadata": {},
   "outputs": [
    {
     "name": "stdout",
     "output_type": "stream",
     "text": [
      "Training set patients = ['slp14', 'slp02b', 'slp59', 'slp02a', 'slp60', 'slp16', 'slp61', 'slp03', 'slp01b', 'slp41', 'slp01a', 'slp67x', 'slp66', 'slp37']\n",
      "Validation set patients = ['slp32', 'slp48']\n",
      "Testing set patients = ['slp45', 'slp04']\n"
     ]
    }
   ],
   "source": [
    "print(\"Training set patients = {}\".format(train_patients))\n",
    "print(\"Validation set patients = {}\".format(valid_patients))\n",
    "print(\"Testing set patients = {}\".format(test_patients))"
   ]
  },
  {
   "cell_type": "markdown",
   "metadata": {
    "id": "EYu2d3lFn33a"
   },
   "source": [
    "## **2. Building the Neural Network**"
   ]
  },
  {
   "cell_type": "code",
   "execution_count": 13,
   "metadata": {},
   "outputs": [],
   "source": [
    "eeg_bandwidths = {\n",
    "    \"delta\": (0.25, 4),\n",
    "    \"theta\": (4, 8),\n",
    "    \"alpha\": (8, 12),\n",
    "    \"sigma\": (12, 16),\n",
    "    \"beta\": (16, 40)\n",
    "}\n",
    "\n",
    "ecg_bandwidths = {\n",
    "    \"ulf\": (0, 0.003),\n",
    "    \"vlf\": (0.003, 0.04),\n",
    "    \"lf\": (0.04, 0.15),\n",
    "    \"hf\": (0.15, 0.4),\n",
    "    \"lf/hf\": (0.4, 1)\n",
    "}"
   ]
  },
  {
   "cell_type": "code",
   "execution_count": 51,
   "metadata": {
    "colab": {
     "base_uri": "https://localhost:8080/"
    },
    "id": "D--JGvLr1E9b",
    "outputId": "b3cc854c-c876-4776-b148-750889344129"
   },
   "outputs": [],
   "source": [
    "def welch_relative_powers (bandwidths, signal, sf, nperseg, lfhf_ratio=False):\n",
    "    # Perform power spectral decomposition with Welch's method\n",
    "    freqs, psd = sp.signal.welch(signal, fs=sf, nperseg=nperseg)\n",
    "\n",
    "    # Frequency resolution\n",
    "    resolution = freqs[1] - freqs[0]\n",
    "\n",
    "    # Relative powers\n",
    "    relative_powers = []\n",
    "\n",
    "    # Calculate the relative powers given the power spectral decomposition\n",
    "    total_power = simps(psd, dx=resolution)\n",
    "    for band, (low, high) in bandwidths.items():\n",
    "        index = np.logical_and(freqs >= low, freqs < high)\n",
    "        power = simps(psd[index], dx=resolution)\n",
    "        rel_power = power / total_power\n",
    "        relative_powers.append(rel_power)\n",
    "        \n",
    "    # This will only be enabled for ECG\n",
    "    # This replaces the last relative power with the LF/HF ratio\n",
    "    if lfhf_ratio:\n",
    "        relative_powers[-1] = relative_powers[2] / relative_powers[3]\n",
    "        \n",
    "    return relative_powers\n",
    "\n",
    "\n",
    "\n",
    "def create_dataset (patient_name, window_size=30, diagnostic=False):\n",
    "    inputs = []\n",
    "    labels = []\n",
    "    \n",
    "    patient = PATIENTS[patient_name]\n",
    "    total_samples = patient.EEG_signal.shape[0]\n",
    "    sampling_frequency = patient.sampling_frequency\n",
    "\n",
    "    # Represents the number of samples (individual numbers) in one window of time (measured in seconds)\n",
    "    samples_per_window = int(window_size * sampling_frequency)\n",
    "\n",
    "    # Represents how many data points is generated after division with windows\n",
    "    # If the window size is larger, there will be less data points (but more samples per data point)\n",
    "    windows = np.round(total_samples / samples_per_window).astype(np.int64)\n",
    "\n",
    "\n",
    "\n",
    "    if diagnostic:\n",
    "        print(\"Gathering {} patient data...\".format(patient_name))\n",
    "        print(\"> Total number of samples = {}\".format(total_samples))\n",
    "        print(\"  Samples per window size of {} seconds = {}\".format(window_size, samples_per_window))\n",
    "        print(\"  Number of windows = {}\".format(windows))\n",
    "        print(\"  Number of batches for batch size {} = {}\".format(batch_size, batches))\n",
    "\n",
    "\n",
    "\n",
    "    for datum in range(windows):\n",
    "        '''\n",
    "        current_batch_inputs = []\n",
    "        current_batch_labels = []\n",
    "\n",
    "        for datum in range(batch_size):\n",
    "        '''\n",
    "        # Determine start and end of current batch\n",
    "        # Function assumes that batch sizes match the number of samples perfectly\n",
    "        start = (datum * samples_per_window)\n",
    "        end = (start + samples_per_window)\n",
    "\n",
    "        '''\n",
    "        EEG_MFCC = librosa.feature.melspectrogram(\n",
    "            y=patient.EEG_signal[start : end], \n",
    "            sr=patient.sampling_frequency)\n",
    "        ECG_MFCC = librosa.feature.melspectrogram(\n",
    "            y=patient.ECG_signal[start : end], \n",
    "            sr=patient.sampling_frequency)\n",
    "\n",
    "        sample = np.expand_dims(\n",
    "            np.stack([ EEG_MFCC, ECG_MFCC ], axis=2), \n",
    "            axis=0)\n",
    "        '''\n",
    "\n",
    "        # ORIGINAL \n",
    "        #EEG = patient.EEG_signal[start : end]\n",
    "        #ECG = patient.ECG_signal[start : end]\n",
    "\n",
    "        eeg = welch_relative_powers(\n",
    "            bandwidths = eeg_bandwidths,\n",
    "            signal     = patient.EEG_signal[start : end],\n",
    "            sf         = sampling_frequency,\n",
    "            nperseg    = samples_per_window\n",
    "        )\n",
    "        \n",
    "        ecg = welch_relative_powers(\n",
    "            bandwidths = ecg_bandwidths,\n",
    "            signal     = patient.ECG_signal[start : end],\n",
    "            sf         = sampling_frequency,\n",
    "            nperseg    = samples_per_window,\n",
    "            lfhf_ratio = True\n",
    "        )\n",
    "\n",
    "        '''\n",
    "        sample = [\n",
    "            patient.EEG_signal[start : end],\n",
    "            patient.ECG_signal[start : end]\n",
    "        ]\n",
    "        '''\n",
    "        sample = eeg + ecg\n",
    "        \n",
    "        # Only grab the label at the end of the current batch\n",
    "        # This is such that we're using all of the data in the current batch\n",
    "        # in order to predict the sleep stage by the end of the batch\n",
    "        sample_labels = patient.sleep_stages[end - 1]\n",
    "        '''\n",
    "            current_batch_inputs.append(sample)\n",
    "            current_batch_labels.append(sample_labels)\n",
    "        '''\n",
    "        inputs.append(sample)\n",
    "        labels.append(sample_labels)\n",
    "\n",
    "    return np.expand_dims(np.array(inputs), axis=(-1, -2)), np.expand_dims(np.array(labels), axis=(-1))"
   ]
  },
  {
   "cell_type": "code",
   "execution_count": 52,
   "metadata": {},
   "outputs": [],
   "source": [
    "# Inception layer\n",
    "# Three 1D convolution layers in parallel concatenate at the end\n",
    "# Left and right filter amounts can be modified\n",
    "class Inception1D (layers.Layer):\n",
    "\n",
    "    def __init__ (self, num_filter):\n",
    "        super(Inception1D, self).__init__()\n",
    "        \n",
    "        # Left-side convolution\n",
    "        self.left_conv = layers.Conv2D(\n",
    "            filters=num_filter, \n",
    "            kernel_size=(1, 1),\n",
    "            padding='same',\n",
    "            activation='relu'\n",
    "        )\n",
    "        \n",
    "        # Right convolution\n",
    "        self.right_conv = tf.keras.Sequential([\n",
    "            layers.Conv2D(\n",
    "                filters=num_filter,\n",
    "                kernel_size=(1, 1),\n",
    "                padding='same',\n",
    "                activation='relu'\n",
    "            ),\n",
    "            layers.Conv2D(\n",
    "                filters=num_filter,\n",
    "                kernel_size=(3, 1),\n",
    "                padding='same',\n",
    "                activation='relu'\n",
    "            )\n",
    "        ])\n",
    "        \n",
    "        # Pooling\n",
    "        self.pool = tf.keras.Sequential([\n",
    "            layers.MaxPooling2D(\n",
    "                pool_size=(2, 1),\n",
    "                strides=1,\n",
    "                padding='same'\n",
    "            ),\n",
    "            layers.Conv2D(\n",
    "                filters=num_filter,\n",
    "                kernel_size=(1, 1),\n",
    "                padding='same',\n",
    "                activation='relu'\n",
    "            )\n",
    "        ])\n",
    "        \n",
    "        \n",
    "        \n",
    "    def call (self, inputs, training=False):\n",
    "        left = self.left_conv(inputs)\n",
    "        right = self.right_conv(inputs)\n",
    "        pool = self.pool(inputs)\n",
    "        \n",
    "        x = layers.Concatenate()([left, right, pool])\n",
    "        if training:\n",
    "            x = layers.SpatialDropout2D(0.1)(x)\n",
    "\n",
    "        return x"
   ]
  },
  {
   "cell_type": "code",
   "execution_count": 53,
   "metadata": {
    "colab": {
     "base_uri": "https://localhost:8080/"
    },
    "id": "yo5vb_3VJXKC",
    "outputId": "31a97c49-f62c-47b2-b045-5c6be97fe94d"
   },
   "outputs": [],
   "source": [
    "class PCNN (tf.keras.Model):\n",
    "    \n",
    "    def __init__ (self):\n",
    "        super(PCNN, self).__init__()\n",
    "        \n",
    "        \n",
    "        \n",
    "    def build (self, input_shape):\n",
    "        self.base_cnn = tf.keras.Sequential([\n",
    "            Inception1D(16),\n",
    "            Inception1D(16),\n",
    "            layers.MaxPooling2D(\n",
    "                pool_size=(2, 1),\n",
    "                strides=1,\n",
    "                padding='same'\n",
    "            )\n",
    "        ])\n",
    "        \n",
    "        self.post_cnn = tf.keras.Sequential([\n",
    "            layers.Conv2D(\n",
    "                filters=128,\n",
    "                kernel_size=(3, 1),\n",
    "                padding='same',\n",
    "                activation='relu'\n",
    "            ),\n",
    "            layers.Conv2D(\n",
    "                filters=128,\n",
    "                kernel_size=(3, 1),\n",
    "                padding='same',\n",
    "                activation='relu'\n",
    "            ),\n",
    "            layers.Conv2D(\n",
    "                filters=128,\n",
    "                kernel_size=(3, 1),\n",
    "                padding='same',\n",
    "                activation='relu'\n",
    "            )\n",
    "        ])\n",
    "        \n",
    "        self.ANN = tf.keras.Sequential([\n",
    "            layers.Flatten(),\n",
    "            layers.Dense(64, activation='relu'),\n",
    "            layers.Dense(32, activation='relu'),\n",
    "            layers.Dense(NUM_CLASSES, activation='softmax')\n",
    "        ], name='ann_classifier')\n",
    "        \n",
    "        super(PCNN, self).build(input_shape)\n",
    "    \n",
    "    \n",
    "    \n",
    "    def call (self, inputs, training=False):\n",
    "        eeg = inputs[:,:5]\n",
    "        ecg = inputs[:,5:]\n",
    "        \n",
    "        \n",
    "        # Parallel convolutional networks\n",
    "        eeg = self.base_cnn(eeg)\n",
    "        ecg = self.base_cnn(ecg)\n",
    "        \n",
    "        eeg = self.post_cnn(eeg)\n",
    "        ecg = self.post_cnn(ecg)\n",
    "        \n",
    "        # Concatenate convolutional embedding\n",
    "        x = layers.Concatenate()([ eeg, ecg ])\n",
    "        \n",
    "        # Dropout layers\n",
    "        if training:\n",
    "            x = layers.Dropout(0.5)(x)\n",
    "        \n",
    "        # Fully-connected classifier\n",
    "        x = self.ANN(x)\n",
    "            \n",
    "        return x\n",
    "        \n",
    "\n",
    "\n",
    "model = PCNN()\n",
    "\n",
    "# Compile the model\n",
    "model.compile(\n",
    "    optimizer = tf.keras.optimizers.Adam(0.001),\n",
    "    loss      = tf.keras.losses.CategoricalCrossentropy(),\n",
    "    metrics   = tf.keras.metrics.CategoricalAccuracy()\n",
    ")"
   ]
  },
  {
   "cell_type": "code",
   "execution_count": 54,
   "metadata": {
    "colab": {
     "base_uri": "https://localhost:8080/"
    },
    "id": "H9Ll4Jj4SEDJ",
    "outputId": "f841a15f-02b0-4c4a-df0d-daf429e10294",
    "scrolled": true
   },
   "outputs": [
    {
     "name": "stdout",
     "output_type": "stream",
     "text": [
      "Epoch 0...\n",
      "Training slp14 (0/14)...\n",
      "Training slp02b (1/14)...\n",
      "Training slp59 (2/14)...\n",
      "Training slp02a (3/14)...\n",
      "Training slp60 (4/14)...\n",
      "Training slp16 (5/14)...\n",
      "Training slp61 (6/14)...\n",
      "Training slp03 (7/14)...\n",
      "Training slp01b (8/14)...\n",
      "Training slp41 (9/14)...\n",
      "Training slp01a (10/14)...\n",
      "Training slp67x (11/14)...\n",
      "Training slp66 (12/14)...\n",
      "Training slp37 (13/14)...\n",
      "Training accuracy = 42.48%\n",
      "Validation accuracy = 58.78%\n",
      "Epoch 1...\n",
      "Training slp14 (0/14)...\n",
      "Training slp02b (1/14)...\n",
      "Training slp59 (2/14)...\n",
      "Training slp02a (3/14)...\n",
      "Training slp60 (4/14)...\n",
      "Training slp16 (5/14)...\n",
      "Training slp61 (6/14)...\n",
      "Training slp03 (7/14)...\n",
      "Training slp01b (8/14)...\n",
      "Training slp41 (9/14)...\n",
      "Training slp01a (10/14)...\n",
      "Training slp67x (11/14)...\n",
      "Training slp66 (12/14)...\n",
      "Training slp37 (13/14)...\n",
      "Training accuracy = 50.86%\n",
      "Validation accuracy = 73.33%\n",
      "Epoch 2...\n",
      "Training slp14 (0/14)...\n",
      "Training slp02b (1/14)...\n",
      "Training slp59 (2/14)...\n",
      "Training slp02a (3/14)...\n",
      "Training slp60 (4/14)...\n",
      "Training slp16 (5/14)...\n",
      "Training slp61 (6/14)...\n",
      "Training slp03 (7/14)...\n",
      "Training slp01b (8/14)...\n",
      "Training slp41 (9/14)...\n",
      "Training slp01a (10/14)...\n",
      "Training slp67x (11/14)...\n",
      "Training slp66 (12/14)...\n",
      "Training slp37 (13/14)...\n",
      "Training accuracy = 52.94%\n",
      "Validation accuracy = 74.59%\n",
      "Epoch 3...\n",
      "Training slp14 (0/14)...\n",
      "Training slp02b (1/14)...\n",
      "Training slp59 (2/14)...\n",
      "Training slp02a (3/14)...\n",
      "Training slp60 (4/14)...\n",
      "Training slp16 (5/14)...\n",
      "Training slp61 (6/14)...\n",
      "Training slp03 (7/14)...\n",
      "Training slp01b (8/14)...\n",
      "Training slp41 (9/14)...\n",
      "Training slp01a (10/14)...\n",
      "Training slp67x (11/14)...\n",
      "Training slp66 (12/14)...\n",
      "Training slp37 (13/14)...\n",
      "Training accuracy = 52.69%\n",
      "Validation accuracy = 73.06%\n",
      "Epoch 4...\n",
      "Training slp14 (0/14)...\n",
      "Training slp02b (1/14)...\n",
      "Training slp59 (2/14)...\n",
      "Training slp02a (3/14)...\n",
      "Training slp60 (4/14)...\n",
      "Training slp16 (5/14)...\n",
      "Training slp61 (6/14)...\n",
      "Training slp03 (7/14)...\n",
      "Training slp01b (8/14)...\n",
      "Training slp41 (9/14)...\n",
      "Training slp01a (10/14)...\n",
      "Training slp67x (11/14)...\n",
      "Training slp66 (12/14)...\n",
      "Training slp37 (13/14)...\n",
      "Training accuracy = 51.54%\n",
      "Validation accuracy = 71.23%\n"
     ]
    }
   ],
   "source": [
    "train_acc = []\n",
    "valid_acc = []\n",
    "\n",
    "# Train the neural network\n",
    "for epoch in range(5):\n",
    "    inter_train = []\n",
    "    inter_valid = []\n",
    "    \n",
    "    print(\"Epoch {}...\".format(epoch))\n",
    "    for i, patient_name in enumerate(train_patients):\n",
    "        print(\"Training {} ({}/{})...\".format(patient_name, i, len(train_patients)))\n",
    "        # Create training and validation dataset\n",
    "        train_data, train_labels = create_dataset(patient_name, diagnostic=False)\n",
    "        valid_data, valid_labels = create_dataset(valid_patients[0], diagnostic=False)\n",
    "        \n",
    "        # Convert to one-hot encoding\n",
    "        train_labels = utils.to_categorical(train_labels, num_classes=NUM_CLASSES)\n",
    "        valid_labels = utils.to_categorical(valid_labels, num_classes=NUM_CLASSES)\n",
    "\n",
    "        # Train model\n",
    "        history = model.fit(\n",
    "            x               = train_data,\n",
    "            y               = train_labels,\n",
    "            epochs          = 1,\n",
    "            validation_data = (\n",
    "                valid_data,\n",
    "                valid_labels\n",
    "            ),\n",
    "            callbacks       = [\n",
    "                tf.keras.callbacks.ReduceLROnPlateau(\n",
    "                    monitor='val_loss', \n",
    "                    factor=0.2,\n",
    "                    patience=5, min_lr=0.001\n",
    "                )\n",
    "            ],\n",
    "            verbose=0\n",
    "        )\n",
    "\n",
    "        # Append accuracies\n",
    "        inter_train.append(history.history['categorical_accuracy'][0])\n",
    "        inter_valid.append(history.history['val_categorical_accuracy'][0])\n",
    "\n",
    "    train_acc.append(np.mean(np.array(inter_train)))\n",
    "    valid_acc.append(np.mean(np.array(inter_valid)))\n",
    "    \n",
    "    print(\"Training accuracy = {:.2%}\".format(train_acc[-1]))\n",
    "    print(\"Validation accuracy = {:.2%}\".format(valid_acc[-1]))"
   ]
  },
  {
   "cell_type": "code",
   "execution_count": 55,
   "metadata": {},
   "outputs": [
    {
     "data": {
      "text/plain": [
       "<matplotlib.legend.Legend at 0x140c35730>"
      ]
     },
     "execution_count": 55,
     "metadata": {},
     "output_type": "execute_result"
    },
    {
     "data": {
      "image/png": "[encoded data removed]",
      "text/plain": [
       "<Figure size 432x288 with 1 Axes>"
      ]
     },
     "metadata": {
      "needs_background": "light"
     },
     "output_type": "display_data"
    }
   ],
   "source": [
    "# Graph training accuracy\n",
    "plt.plot(train_acc, label='Training Accuracy')\n",
    "plt.plot(valid_acc, label='Validation Accuracy')\n",
    "plt.xlabel('Epoch')\n",
    "plt.ylabel('Accuracy')\n",
    "plt.ylim([0, 1])\n",
    "plt.legend(loc='lower right')"
   ]
  },
  {
   "cell_type": "code",
   "execution_count": 56,
   "metadata": {},
   "outputs": [
    {
     "name": "stdout",
     "output_type": "stream",
     "text": [
      "23/23 [==============================] - 0s 3ms/step - loss: 0.9741 - categorical_accuracy: 0.6958\n",
      "Testing accuracy = 69.58%\n"
     ]
    }
   ],
   "source": [
    "test_acc = []\n",
    "\n",
    "for patient_name in test_patients[1:]:\n",
    "    # Get test accuracy of the network\n",
    "    test_data, test_labels = create_dataset(patient_name, diagnostic=False)\n",
    "    test_labels = utils.to_categorical(test_labels, num_classes=NUM_CLASSES)\n",
    "    _, acc = model.evaluate(test_data, test_labels)\n",
    "    test_acc.append(acc)\n",
    "    \n",
    "print(\"Testing accuracy = {:.2%}\".format(np.mean(test_acc)))"
   ]
  },
  {
   "cell_type": "markdown",
   "metadata": {},
   "source": [
    "# 3. Exporting Model"
   ]
  },
  {
   "cell_type": "code",
   "execution_count": 80,
   "metadata": {},
   "outputs": [
    {
     "name": "stderr",
     "output_type": "stream",
     "text": [
      "WARNING:absl:Found untraced functions such as conv2d_layer_call_and_return_conditional_losses, conv2d_layer_call_fn, conv2d_4_layer_call_and_return_conditional_losses, conv2d_4_layer_call_fn, conv2d_layer_call_fn while saving (showing 5 of 10). These functions will not be directly callable after loading.\n"
     ]
    },
    {
     "name": "stdout",
     "output_type": "stream",
     "text": [
      "INFO:tensorflow:Assets written to: model/assets\n"
     ]
    },
    {
     "name": "stderr",
     "output_type": "stream",
     "text": [
      "INFO:tensorflow:Assets written to: model/assets\n"
     ]
    }
   ],
   "source": [
    "MODEL_TF = 'model'\n",
    "MODEL_TFLITE = 'model.tflite'\n",
    "MODEL_TFLITE_MICRO = 'model.cc'\n",
    "\n",
    "model.save(MODEL_TF)"
   ]
  },
  {
   "cell_type": "code",
   "execution_count": 81,
   "metadata": {},
   "outputs": [
    {
     "name": "stderr",
     "output_type": "stream",
     "text": [
      "WARNING:absl:Found untraced functions such as conv2d_layer_call_and_return_conditional_losses, conv2d_layer_call_fn, conv2d_4_layer_call_and_return_conditional_losses, conv2d_4_layer_call_fn, conv2d_layer_call_fn while saving (showing 5 of 10). These functions will not be directly callable after loading.\n"
     ]
    },
    {
     "name": "stdout",
     "output_type": "stream",
     "text": [
      "INFO:tensorflow:Assets written to: /var/folders/gq/h37vcf3132q7y2scnlvy177r0000gn/T/tmptv9um7ng/assets\n"
     ]
    },
    {
     "name": "stderr",
     "output_type": "stream",
     "text": [
      "INFO:tensorflow:Assets written to: /var/folders/gq/h37vcf3132q7y2scnlvy177r0000gn/T/tmptv9um7ng/assets\n",
      "2022-04-09 21:30:42.910095: I tensorflow/core/grappler/devices.cc:75] Number of eligible GPUs (core count >= 8, compute capability >= 0.0): 0 (Note: TensorFlow was not compiled with CUDA or ROCm support)\n",
      "2022-04-09 21:30:42.910183: I tensorflow/core/grappler/clusters/single_machine.cc:357] Starting new session\n",
      "2022-04-09 21:30:42.912442: I tensorflow/core/grappler/optimizers/meta_optimizer.cc:1137] Optimization results for grappler item: graph_to_optimize\n",
      "  function_optimizer: function_optimizer did nothing. time = 0.002ms.\n",
      "  function_optimizer: function_optimizer did nothing. time = 0ms.\n",
      "\n",
      "2022-04-09 21:30:43.562816: W tensorflow/compiler/mlir/lite/python/tf_tfl_flatbuffer_helpers.cc:351] Ignored output_format.\n",
      "2022-04-09 21:30:43.562831: W tensorflow/compiler/mlir/lite/python/tf_tfl_flatbuffer_helpers.cc:354] Ignored drop_control_dependency.\n",
      "fully_quantize: 0, inference_type: 6, input_inference_type: 9, output_inference_type: 9\n"
     ]
    }
   ],
   "source": [
    "converter = tf.lite.TFLiteConverter.from_keras_model(model)\n",
    "\n",
    "# Quantization\n",
    "def representative_dataset_gen():\n",
    "    for sample in train_data:\n",
    "        yield [np.expand_dims(sample, axis=0).astype(np.float32)]\n",
    "\n",
    "converter.optimizations = [tf.lite.Optimize.DEFAULT]\n",
    "converter.target_spec.supported_ops = [tf.lite.OpsSet.TFLITE_BUILTINS_INT8]\n",
    "converter.inference_input_type = tf.int8\n",
    "converter.inference_output_type = tf.int8\n",
    "converter.representative_dataset = representative_dataset_gen\n",
    "\n",
    "model_tflite = converter.convert()\n",
    "with open(MODEL_TFLITE, \"wb\") as f:\n",
    "    f.write(model_tflite)"
   ]
  },
  {
   "cell_type": "code",
   "execution_count": 82,
   "metadata": {},
   "outputs": [],
   "source": [
    "!xxd -i {MODEL_TFLITE} > {MODEL_TFLITE_MICRO}\n",
    "\n",
    "REPLACE_TEXT = MODEL_TFLITE.replace('/', '_').replace('.', '_')\n",
    "!sed -i '' -e 's/'{REPLACE_TEXT}'/g_model/g' {MODEL_TFLITE_MICRO}"
   ]
  },
  {
   "cell_type": "code",
   "execution_count": null,
   "metadata": {},
   "outputs": [],
   "source": []
  }
 ],
 "metadata": {
  "colab": {
   "collapsed_sections": [],
   "name": "Rough Implementation",
   "provenance": []
  },
  "kernelspec": {
   "display_name": "Python 3 (ipykernel)",
   "language": "python",
   "name": "python3"
  },
  "language_info": {
   "codemirror_mode": {
    "name": "ipython",
    "version": 3
   },
   "file_extension": ".py",
   "mimetype": "text/x-python",
   "name": "python",
   "nbconvert_exporter": "python",
   "pygments_lexer": "ipython3",
   "version": "3.9.12"
  }
 },
 "nbformat": 4,
 "nbformat_minor": 1
}
