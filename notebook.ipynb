{
 "cells": [
  {
   "cell_type": "markdown",
   "metadata": {
    "id": "BnlLdtj3lHBl"
   },
   "source": [
    "Download database."
   ]
  },
  {
   "cell_type": "code",
   "execution_count": 1,
   "metadata": {
    "id": "pWA6eCrwiq2p"
   },
   "outputs": [],
   "source": [
    "!wget -r -N -c -np -q https://physionet.org/files/slpdb/1.0.0/"
   ]
  },
  {
   "cell_type": "markdown",
   "metadata": {},
   "source": [
    "Check if database exists."
   ]
  },
  {
   "cell_type": "code",
   "execution_count": 8,
   "metadata": {},
   "outputs": [],
   "source": [
    "![ ! -d \"physionet.org\" ] && echo \"Error: database not downloaded properly.\""
   ]
  },
  {
   "cell_type": "markdown",
   "metadata": {
    "id": "bn4kzr6KmE6B"
   },
   "source": [
    "Download libraries."
   ]
  },
  {
   "cell_type": "code",
   "execution_count": 11,
   "metadata": {
    "colab": {
     "base_uri": "https://localhost:8080/"
    },
    "id": "BtOCDXRemGNN",
    "outputId": "3bef8850-c9d9-4779-d9d8-a2948f9e65bb"
   },
   "outputs": [
    {
     "name": "stdout",
     "output_type": "stream",
     "text": [
      "\u001b[33mWARNING: Ignoring invalid distribution -atplotlib (/usr/local/lib/python3.9/site-packages)\u001b[0m\u001b[33m\n",
      "\u001b[0m\u001b[33mWARNING: Ignoring invalid distribution -atplotlib (/usr/local/lib/python3.9/site-packages)\u001b[0m\u001b[33m\n",
      "\u001b[0m\u001b[33mWARNING: Ignoring invalid distribution -atplotlib (/usr/local/lib/python3.9/site-packages)\u001b[0m\u001b[33m\n",
      "\u001b[0m\u001b[33mWARNING: Ignoring invalid distribution -atplotlib (/usr/local/lib/python3.9/site-packages)\u001b[0m\u001b[33m\n",
      "\u001b[0m\u001b[33mWARNING: Ignoring invalid distribution -atplotlib (/usr/local/lib/python3.9/site-packages)\u001b[0m\u001b[33m\n",
      "\u001b[0m\u001b[33mWARNING: Ignoring invalid distribution -atplotlib (/usr/local/lib/python3.9/site-packages)\u001b[0m\u001b[33m\n",
      "\u001b[0m\u001b[33mWARNING: You are using pip version 22.0.3; however, version 22.0.4 is available.\n",
      "You should consider upgrading via the '/usr/local/opt/python@3.9/bin/python3.9 -m pip install --upgrade pip' command.\u001b[0m\u001b[33m\n",
      "\u001b[0m\u001b[33mWARNING: Ignoring invalid distribution -atplotlib (/usr/local/lib/python3.9/site-packages)\u001b[0m\u001b[33m\n",
      "\u001b[0m\u001b[33mWARNING: Ignoring invalid distribution -atplotlib (/usr/local/lib/python3.9/site-packages)\u001b[0m\u001b[33m\n",
      "\u001b[0mRequirement already satisfied: matplotlib==3.1.3 in /usr/local/lib/python3.9/site-packages (3.1.3)\n",
      "Requirement already satisfied: python-dateutil>=2.1 in /usr/local/lib/python3.9/site-packages (from matplotlib==3.1.3) (2.8.1)\n",
      "Requirement already satisfied: cycler>=0.10 in /usr/local/lib/python3.9/site-packages (from matplotlib==3.1.3) (0.10.0)\n",
      "Requirement already satisfied: kiwisolver>=1.0.1 in /usr/local/lib/python3.9/site-packages (from matplotlib==3.1.3) (1.3.1)\n",
      "Requirement already satisfied: numpy>=1.11 in /usr/local/lib/python3.9/site-packages (from matplotlib==3.1.3) (1.19.4)\n",
      "Requirement already satisfied: pyparsing!=2.0.4,!=2.1.2,!=2.1.6,>=2.0.1 in /usr/local/lib/python3.9/site-packages (from matplotlib==3.1.3) (2.4.7)\n",
      "Requirement already satisfied: six in /Users/hoseoklee/Library/Python/3.9/lib/python/site-packages (from cycler>=0.10->matplotlib==3.1.3) (1.15.0)\n",
      "\u001b[33mWARNING: Ignoring invalid distribution -atplotlib (/usr/local/lib/python3.9/site-packages)\u001b[0m\u001b[33m\n",
      "\u001b[0m\u001b[33mWARNING: Ignoring invalid distribution -atplotlib (/usr/local/lib/python3.9/site-packages)\u001b[0m\u001b[33m\n",
      "\u001b[0m\u001b[33mWARNING: Ignoring invalid distribution -atplotlib (/usr/local/lib/python3.9/site-packages)\u001b[0m\u001b[33m\n",
      "\u001b[0m\u001b[33mWARNING: Ignoring invalid distribution -atplotlib (/usr/local/lib/python3.9/site-packages)\u001b[0m\u001b[33m\n",
      "\u001b[0m\u001b[33mWARNING: You are using pip version 22.0.3; however, version 22.0.4 is available.\n",
      "You should consider upgrading via the '/usr/local/opt/python@3.9/bin/python3.9 -m pip install --upgrade pip' command.\u001b[0m\u001b[33m\n",
      "\u001b[0m"
     ]
    }
   ],
   "source": [
    "import sys\n",
    "!{sys.executable} -m pip install -q wfdb tinymlgen --user\n",
    "!{sys.executable} -m pip install matplotlib==3.1.3 --user"
   ]
  },
  {
   "cell_type": "markdown",
   "metadata": {
    "id": "XTUxPlAylstP"
   },
   "source": [
    "Import libraries and set random seed."
   ]
  },
  {
   "cell_type": "code",
   "execution_count": 4,
   "metadata": {
    "id": "lZt8rqnwluy1"
   },
   "outputs": [],
   "source": [
    "# For reading database\n",
    "import wfdb\n",
    "import os\n",
    "import copy\n",
    "import numpy as np\n",
    "import scipy as sp\n",
    "import tensorflow as tf\n",
    "from tensorflow.keras import models, layers\n",
    "from tensorflow.keras import utils\n",
    "import matplotlib.pyplot as plt\n",
    "import librosa\n",
    "import librosa.display\n",
    "\n",
    "np.random.seed(1)\n",
    "tf.random.set_seed(1)"
   ]
  },
  {
   "cell_type": "markdown",
   "metadata": {
    "id": "CP7JEBwSmfCj"
   },
   "source": [
    "## **1. Import Database**\n",
    "Accessing data and basic data processing.\n"
   ]
  },
  {
   "cell_type": "code",
   "execution_count": 5,
   "metadata": {
    "id": "uBcKJYsz5jo5"
   },
   "outputs": [],
   "source": [
    "class PatientData (object):\n",
    "    ECG_signal = None\n",
    "    EEG_signal = None\n",
    "    sleep_stages = None\n",
    "\n",
    "    record_length = None\n",
    "    sampling_frequency = None\n",
    "\n",
    "    def __init__ (self, patient_name):\n",
    "        self.patient_name = patient_name"
   ]
  },
  {
   "cell_type": "code",
   "execution_count": 6,
   "metadata": {
    "id": "acnTzNBz3co0"
   },
   "outputs": [],
   "source": [
    "DATABASE_PATH = 'physionet.org/files/slpdb/1.0.0'\n",
    "\n",
    "with open(os.path.join(DATABASE_PATH, 'RECORDS'), 'r') as file:\n",
    "    PATIENT_NAMES = file.read().split('\\n')[:-1]\n",
    "  \n",
    "PATIENTS = {\n",
    "    patient_name: PatientData(patient_name)\n",
    "    for patient_name in PATIENT_NAMES\n",
    "}"
   ]
  },
  {
   "cell_type": "code",
   "execution_count": 7,
   "metadata": {
    "id": "q4tscNYw7RCf"
   },
   "outputs": [],
   "source": [
    "# 0 Awake\n",
    "# 1 NREM stage 1\n",
    "# 2 NREM stage 2\n",
    "# 3 NREM stage 3 and 4\n",
    "# 4 REM\n",
    "def annotation_sleep_stage (annotation):\n",
    "    if annotation.startswith('W'):\n",
    "        return 0\n",
    "    elif annotation.startswith('1'):\n",
    "        return 1\n",
    "    elif annotation.startswith('2'):\n",
    "        return 2\n",
    "    elif annotation.startswith('3') or annotation.startswith('4'):\n",
    "        return 3\n",
    "    elif annotation.startswith('R'):\n",
    "        return 4\n",
    "    # Ideally, all annotations are classified into one of the above 5\n",
    "    else:\n",
    "        return -1\n",
    "\n",
    "# Since annotations only have labels and the time at which they occur,\n",
    "# interpolate all the data so there's always a label at each time step\n",
    "def step_interpolation (data, locations, total_length):\n",
    "    step_interpolated_data = np.zeros(total_length)\n",
    "\n",
    "    for i in range(len(locations) - 1):\n",
    "        start_range = locations[i]\n",
    "        end_range = locations[i + 1]\n",
    "\n",
    "        # Convert string annotation into sleep stage\n",
    "        step_interpolated_data[(start_range - 1) : end_range] = annotation_sleep_stage(data[i])\n",
    "\n",
    "    return step_interpolated_data"
   ]
  },
  {
   "cell_type": "code",
   "execution_count": 9,
   "metadata": {
    "id": "x15jx_LYmmA6"
   },
   "outputs": [],
   "source": [
    "for patient_name in PATIENT_NAMES:\n",
    "    patient = PATIENTS[patient_name]\n",
    "\n",
    "    # Retrieve raw signals and annotations\n",
    "    record_path = os.path.join(DATABASE_PATH, patient_name)\n",
    "    record = wfdb.io.rdrecord(record_path)\n",
    "    annotation = wfdb.rdann(record_path, extension='st')\n",
    "\n",
    "    # Sampling frequency\n",
    "    # This might differ for each record\n",
    "    patient.sampling_frequency = record.fs\n",
    "\n",
    "    # 0 ECG\n",
    "    # 1 BP\n",
    "    # 2 EEG\n",
    "    # 3 Resp (not available for all)\n",
    "    patient.ECG_signal = record.p_signal[:, 0]\n",
    "    patient.EEG_signal = record.p_signal[:, 2]\n",
    "    patient.record_length = record.sig_len\n",
    "\n",
    "    patient.sleep_stages = step_interpolation(annotation.aux_note, annotation.sample, patient.record_length)"
   ]
  },
  {
   "cell_type": "code",
   "execution_count": 12,
   "metadata": {
    "colab": {
     "base_uri": "https://localhost:8080/"
    },
    "id": "DUsBEQGz7wL5",
    "outputId": "b45f5740-7388-456e-ff70-778b5f800c16"
   },
   "outputs": [
    {
     "name": "stdout",
     "output_type": "stream",
     "text": [
      "[0.085 0.08  0.125 ... 0.23  0.235 0.225]\n",
      "[-0.03919129 -0.03888025 -0.03856921 ...  0.14727838  0.14681182\n",
      "  0.14261275]\n",
      "[3. 3. 3. ... 0. 0. 0.]\n"
     ]
    }
   ],
   "source": [
    "# Example patient\n",
    "patient_slp01a = PATIENTS['slp01a']\n",
    "print(patient_slp01a.ECG_signal)\n",
    "print(patient_slp01a.EEG_signal)\n",
    "print(patient_slp01a.sleep_stages)"
   ]
  },
  {
   "cell_type": "code",
   "execution_count": 13,
   "metadata": {
    "id": "G2eqrZjt0K4Z"
   },
   "outputs": [],
   "source": [
    "# Splitting the dataset into train, validation, test set\n",
    "# Will be split in terms of patients, not sleep data\n",
    "num_patients = len(PATIENTS)\n",
    "\n",
    "# Shuffle patients\n",
    "randomized_patients = copy.deepcopy(list(PATIENTS.keys()))\n",
    "np.random.shuffle(randomized_patients)\n",
    "\n",
    "# 80 / 10 / 10 split of 18 patients will be roughly 14 / 2 / 2\n",
    "# Don't need test_end, since it'll be until the end of data\n",
    "train_end = 14\n",
    "valid_end = train_end + 2\n",
    "\n",
    "# Split data using keys\n",
    "train_patients = randomized_patients[ : train_end]\n",
    "valid_patients = randomized_patients[train_end : valid_end]\n",
    "test_patients = randomized_patients[valid_end : ]"
   ]
  },
  {
   "cell_type": "markdown",
   "metadata": {
    "id": "EYu2d3lFn33a"
   },
   "source": [
    "## **2. Building the Neural Network**"
   ]
  },
  {
   "cell_type": "code",
   "execution_count": 262,
   "metadata": {
    "colab": {
     "base_uri": "https://localhost:8080/"
    },
    "id": "D--JGvLr1E9b",
    "outputId": "b3cc854c-c876-4776-b148-750889344129"
   },
   "outputs": [],
   "source": [
    "def create_dataset(patient_set, window_size=15, batch_size=10, diagnostic=False):\n",
    "    inputs = []\n",
    "    labels = []\n",
    "    \n",
    "    for patient_name in patient_set:\n",
    "        patient = PATIENTS[patient_name]\n",
    "        total_samples = patient.EEG_signal.shape[0]\n",
    "\n",
    "        # Represents the number of samples (individual numbers) in one window of time (measured in seconds)\n",
    "        samples_per_window = int(window_size * patient.sampling_frequency)\n",
    "        \n",
    "        # Represents how many data points is generated after division with windows\n",
    "        # If the window size is larger, there will be less data points (but more samples per data point)\n",
    "        windows = np.round(total_samples / samples_per_window).astype(np.int64)\n",
    "        \n",
    "        # Calculate the number of batches, dependent on the number of data points and batch size\n",
    "        batches = np.ceil(windows / batch_size).astype(np.int64)\n",
    "        \n",
    "        \n",
    "        \n",
    "        if diagnostic:\n",
    "            print(\"Gathering {} patient data...\".format(patient_name))\n",
    "            print(\"> Total number of samples = {}\".format(total_samples))\n",
    "            print(\"  Samples per window size of {} seconds = {}\".format(window_size, samples_per_window))\n",
    "            print(\"  Number of windows = {}\".format(windows))\n",
    "            print(\"  Number of batches for batch size {} = {}\".format(batch_size, batches))\n",
    "\n",
    "            \n",
    "            \n",
    "        for datum in range(windows):\n",
    "            '''\n",
    "            current_batch_inputs = []\n",
    "            current_batch_labels = []\n",
    "            \n",
    "            for datum in range(batch_size):\n",
    "            '''\n",
    "            # Determine start and end of current batch\n",
    "            # Function assumes that batch sizes match the number of samples perfectly\n",
    "            start = (datum * samples_per_window)\n",
    "            end = (start + samples_per_window)\n",
    "\n",
    "            '''\n",
    "            EEG_MFCC = librosa.feature.melspectrogram(\n",
    "                y=patient.EEG_signal[start : end], \n",
    "                sr=patient.sampling_frequency)\n",
    "            ECG_MFCC = librosa.feature.melspectrogram(\n",
    "                y=patient.ECG_signal[start : end], \n",
    "                sr=patient.sampling_frequency)\n",
    "\n",
    "            sample = np.expand_dims(\n",
    "                np.stack([ EEG_MFCC, ECG_MFCC ], axis=2), \n",
    "                axis=0)\n",
    "            '''\n",
    "\n",
    "            sample = patient.EEG_signal[start : end]\n",
    "\n",
    "            # Only grab the label at the end of the current batch\n",
    "            # This is such that we're using all of the data in the current batch\n",
    "            # in order to predict the sleep stage by the end of the batch\n",
    "            sample_labels = patient.sleep_stages[end - 1]\n",
    "            '''\n",
    "                current_batch_inputs.append(sample)\n",
    "                current_batch_labels.append(sample_labels)\n",
    "            '''\n",
    "            inputs.append(sample)\n",
    "            labels.append(sample_labels)\n",
    "      \n",
    "        break\n",
    "\n",
    "    return np.expand_dims(np.array(inputs), axis=-1), np.expand_dims(np.array(labels), axis=-1)"
   ]
  },
  {
   "cell_type": "code",
   "execution_count": 263,
   "metadata": {},
   "outputs": [
    {
     "name": "stdout",
     "output_type": "stream",
     "text": [
      "Gathering slp14 patient data...\n",
      "> Total number of samples = 5400000\n",
      "  Samples per window size of 15 seconds = 3750\n",
      "  Number of windows = 1440\n",
      "  Number of batches for batch size 10 = 144\n"
     ]
    }
   ],
   "source": [
    "# Create training dataset\n",
    "train_data, train_labels = create_dataset(train_patients, diagnostic=True)"
   ]
  },
  {
   "cell_type": "code",
   "execution_count": 264,
   "metadata": {},
   "outputs": [
    {
     "name": "stdout",
     "output_type": "stream",
     "text": [
      "(1440, 3750, 1)\n",
      "(1440, 1)\n"
     ]
    }
   ],
   "source": [
    "print(train_data.shape)\n",
    "print(train_labels.shape)"
   ]
  },
  {
   "cell_type": "code",
   "execution_count": 267,
   "metadata": {},
   "outputs": [
    {
     "name": "stdout",
     "output_type": "stream",
     "text": [
      "[2.23491255e-05 1.98725237e-05 2.21443075e-05 1.44586918e-05\n",
      " 3.21054769e-06 3.45698864e-06 3.21245844e-06 4.32837294e-06\n",
      " 3.99676860e-06 2.84017592e-06 2.91300789e-06 2.06101717e-06\n",
      " 2.65155779e-06 4.20651795e-06 1.69255641e-06]\n"
     ]
    }
   ],
   "source": [
    "x = train_data[0].squeeze()\n",
    "sf = 250\n",
    "\n",
    "low, high = 0.5, 4\n",
    "\n",
    "freqs, psd = sp.signal.welch(x, sf, nperseg=(4 * sf))\n",
    "delta = psd[np.logical_and(freqs >= low, freqs <= high)]\n",
    "print(delta)"
   ]
  },
  {
   "cell_type": "code",
   "execution_count": 255,
   "metadata": {
    "colab": {
     "base_uri": "https://localhost:8080/"
    },
    "id": "yo5vb_3VJXKC",
    "outputId": "31a97c49-f62c-47b2-b045-5c6be97fe94d"
   },
   "outputs": [
    {
     "name": "stdout",
     "output_type": "stream",
     "text": [
      "Model: \"sequential_50\"\n",
      "_________________________________________________________________\n",
      "Layer (type)                 Output Shape              Param #   \n",
      "=================================================================\n",
      "conv1d_81 (Conv1D)           (None, 3748, 16)          64        \n",
      "_________________________________________________________________\n",
      "conv1d_82 (Conv1D)           (None, 3746, 16)          784       \n",
      "_________________________________________________________________\n",
      "flatten_52 (Flatten)         (None, 59936)             0         \n",
      "_________________________________________________________________\n",
      "dense_151 (Dense)            (None, 32)                1917984   \n",
      "_________________________________________________________________\n",
      "dense_152 (Dense)            (None, 16)                528       \n",
      "_________________________________________________________________\n",
      "dense_153 (Dense)            (None, 5)                 85        \n",
      "=================================================================\n",
      "Total params: 1,919,445\n",
      "Trainable params: 1,919,445\n",
      "Non-trainable params: 0\n",
      "_________________________________________________________________\n"
     ]
    }
   ],
   "source": [
    "filter_size = 3\n",
    "pool_size = 2\n",
    "\n",
    "model = models.Sequential([\n",
    "    layers.Conv1D(\n",
    "        filters=16, \n",
    "        kernel_size=filter_size, \n",
    "        activation='relu', \n",
    "        input_shape=train_data.shape[1:]),\n",
    "    layers.Conv1D(\n",
    "        filters=16,\n",
    "        kernel_size=filter_size, \n",
    "        activation='relu'),\n",
    "    \n",
    "    layers.Flatten(), \n",
    "    layers.Dense(32, activation='relu'),\n",
    "    layers.Dense(16, activation='relu'), \n",
    "    layers.Dense(5, activation='softmax')\n",
    "])\n",
    "\n",
    "optimizer = tf.keras.optimizers.Nadam(\n",
    "    learning_rate=0.007,\n",
    "    epsilon=1e-7,\n",
    "    name=\"adam\"\n",
    ")\n",
    "\n",
    "# Compile the model\n",
    "model.compile(\n",
    "    optimizer=optimizer,\n",
    "    loss='categorical_crossentropy',\n",
    "    metrics=['accuracy'],\n",
    ")\n",
    "\n",
    "model.summary()"
   ]
  },
  {
   "cell_type": "code",
   "execution_count": 256,
   "metadata": {
    "colab": {
     "base_uri": "https://localhost:8080/"
    },
    "id": "H9Ll4Jj4SEDJ",
    "outputId": "f841a15f-02b0-4c4a-df0d-daf429e10294"
   },
   "outputs": [
    {
     "name": "stdout",
     "output_type": "stream",
     "text": [
      "Epoch 1/10\n",
      "45/45 [==============================] - 3s 53ms/step - loss: 1.3903 - accuracy: 0.4299\n",
      "Epoch 2/10\n",
      "45/45 [==============================] - 2s 53ms/step - loss: 1.3180 - accuracy: 0.4563\n",
      "Epoch 3/10\n",
      "45/45 [==============================] - 2s 53ms/step - loss: 1.2721 - accuracy: 0.4458\n",
      "Epoch 4/10\n",
      "45/45 [==============================] - 2s 53ms/step - loss: 1.2503 - accuracy: 0.4826\n",
      "Epoch 5/10\n",
      "45/45 [==============================] - 2s 53ms/step - loss: 1.0988 - accuracy: 0.5514\n",
      "Epoch 6/10\n",
      "45/45 [==============================] - 2s 53ms/step - loss: 0.9277 - accuracy: 0.6271\n",
      "Epoch 7/10\n",
      "45/45 [==============================] - 2s 53ms/step - loss: 0.7798 - accuracy: 0.6840\n",
      "Epoch 8/10\n",
      "45/45 [==============================] - 3s 56ms/step - loss: 0.6620 - accuracy: 0.7417\n",
      "Epoch 9/10\n",
      "45/45 [==============================] - 3s 57ms/step - loss: 0.5413 - accuracy: 0.7937\n",
      "Epoch 10/10\n",
      "45/45 [==============================] - 2s 55ms/step - loss: 0.4338 - accuracy: 0.8479\n"
     ]
    }
   ],
   "source": [
    "# Train the neural network\n",
    "\n",
    "history = model.fit(\n",
    "    train_data,\n",
    "    utils.to_categorical(train_labels),\n",
    "    epochs=10\n",
    ")"
   ]
  },
  {
   "cell_type": "code",
   "execution_count": 257,
   "metadata": {
    "colab": {
     "base_uri": "https://localhost:8080/",
     "height": 300
    },
    "id": "sTZp9NLH94p1",
    "outputId": "23603d9c-6cb1-4840-8839-5ef177036029"
   },
   "outputs": [
    {
     "data": {
      "text/plain": [
       "<matplotlib.legend.Legend at 0x1943efb20>"
      ]
     },
     "execution_count": 257,
     "metadata": {},
     "output_type": "execute_result"
    },
    {
     "data": {
      "image/png": "[encoded data removed]",
      "text/plain": [
       "<Figure size 432x288 with 1 Axes>"
      ]
     },
     "metadata": {
      "needs_background": "light"
     },
     "output_type": "display_data"
    }
   ],
   "source": [
    "# Graph training accuracy\n",
    "plt.plot(history.history['accuracy'], label='accuracy')\n",
    "plt.xlabel('epoch')\n",
    "plt.ylabel('accuracy')\n",
    "plt.ylim([0, 1])\n",
    "plt.legend(loc='lower right')"
   ]
  },
  {
   "cell_type": "code",
   "execution_count": null,
   "metadata": {
    "id": "ik3D0W5PSP8v"
   },
   "outputs": [],
   "source": [
    "# Get accuracy of the network\n",
    "model.evaluate(validation_data)"
   ]
  },
  {
   "cell_type": "code",
   "execution_count": null,
   "metadata": {
    "id": "kpfOB_6t6B0k"
   },
   "outputs": [],
   "source": [
    "# implementing the class of conv net -- incompleted\n",
    "class CNN_sleep_stages(tf.Module):\n",
    "  def __init__(self, number_of_channels = , number_of_classes =):\n",
    "    self.conv1 = models.Sequential(layers.Conv2D(, (, ), activation='relu', input_shape=(, , )))\n",
    "    self.conv2 = models.Sequential(layers.Conv2D(, (, ), activation='relu'))\n",
    "    self.pool =  models.Sequential(layers.MaxPool2D( 2 , 2 ))\n",
    "    self.flat = models.Sequential(layers.Flatten())\n",
    "    self.dense = models.Sequential(layers.Dense(, activation = 'Sigmoid'))\n",
    "  \n",
    "  def __call__(self, x):\n",
    "    x = self.pool(self.conv1(x))\n",
    "    return x\n",
    "\n",
    "# Could improve the accuracy by:\n",
    "# 1. Increasing the depth (adding more convolutional layer)\n",
    "# 2. Adding dropout layer\n",
    "# 3. Add fully-connected layers\n",
    "# 4. Strides? Padding?"
   ]
  }
 ],
 "metadata": {
  "colab": {
   "collapsed_sections": [],
   "name": "Rough Implementation",
   "provenance": []
  },
  "kernelspec": {
   "display_name": "Python 3 (ipykernel)",
   "language": "python",
   "name": "python3"
  },
  "language_info": {
   "codemirror_mode": {
    "name": "ipython",
    "version": 3
   },
   "file_extension": ".py",
   "mimetype": "text/x-python",
   "name": "python",
   "nbconvert_exporter": "python",
   "pygments_lexer": "ipython3",
   "version": "3.9.9"
  }
 },
 "nbformat": 4,
 "nbformat_minor": 1
}
