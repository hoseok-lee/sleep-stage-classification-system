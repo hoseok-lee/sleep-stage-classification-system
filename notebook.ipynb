{
 "cells": [
  {
   "cell_type": "markdown",
   "metadata": {
    "id": "BnlLdtj3lHBl"
   },
   "source": [
    "Download database if database does not exist."
   ]
  },
  {
   "cell_type": "code",
   "execution_count": 16,
   "metadata": {},
   "outputs": [],
   "source": [
    "![ ! -d \"physionet.org\" ] && wget -r -N -c -np -q https://physionet.org/files/slpdb/1.0.0/"
   ]
  },
  {
   "cell_type": "code",
   "execution_count": 17,
   "metadata": {},
   "outputs": [
    {
     "name": "stdout",
     "output_type": "stream",
     "text": [
      "/usr/bin/bash\n"
     ]
    }
   ],
   "source": [
    "%%bash\n",
    "which bash"
   ]
  },
  {
   "cell_type": "markdown",
   "metadata": {
    "id": "bn4kzr6KmE6B"
   },
   "source": [
    "Download libraries."
   ]
  },
  {
   "cell_type": "code",
   "execution_count": 32,
   "metadata": {
    "colab": {
     "base_uri": "https://localhost:8080/"
    },
    "id": "BtOCDXRemGNN",
    "outputId": "3bef8850-c9d9-4779-d9d8-a2948f9e65bb",
    "scrolled": false
   },
   "outputs": [
    {
     "name": "stderr",
     "output_type": "stream",
     "text": [
      "'C:\\Users\\Ho' is not recognized as an internal or external command,\n",
      "operable program or batch file.\n",
      "'C:\\Users\\Ho' is not recognized as an internal or external command,\n",
      "operable program or batch file.\n"
     ]
    }
   ],
   "source": [
    "import sys\n",
    "!{sys.executable} -m pip install -q wfdb tinymlgen --user\n",
    "!{sys.executable} -m pip install matplotlib==3.1.3 --user"
   ]
  },
  {
   "cell_type": "markdown",
   "metadata": {
    "id": "XTUxPlAylstP"
   },
   "source": [
    "Import libraries and set random seed."
   ]
  },
  {
   "cell_type": "code",
   "execution_count": 46,
   "metadata": {
    "id": "lZt8rqnwluy1"
   },
   "outputs": [],
   "source": [
    "# For reading database\n",
    "import wfdb\n",
    "import os\n",
    "import copy\n",
    "import numpy as np\n",
    "import scipy as sp\n",
    "from scipy import signal\n",
    "import tensorflow as tf\n",
    "from tensorflow.keras import models, layers\n",
    "from tensorflow.keras import utils\n",
    "import matplotlib.pyplot as plt\n",
    "\n",
    "np.random.seed(1)\n",
    "tf.random.set_seed(1)"
   ]
  },
  {
   "cell_type": "markdown",
   "metadata": {
    "id": "CP7JEBwSmfCj"
   },
   "source": [
    "## **1. Import Database**\n",
    "Accessing data and basic data processing.\n"
   ]
  },
  {
   "cell_type": "code",
   "execution_count": 34,
   "metadata": {
    "id": "uBcKJYsz5jo5"
   },
   "outputs": [],
   "source": [
    "class PatientData (object):\n",
    "    ECG_signal = None\n",
    "    EEG_signal = None\n",
    "    sleep_stages = None\n",
    "\n",
    "    record_length = None\n",
    "    sampling_frequency = None\n",
    "\n",
    "    def __init__ (self, patient_name):\n",
    "        self.patient_name = patient_name"
   ]
  },
  {
   "cell_type": "code",
   "execution_count": 35,
   "metadata": {
    "id": "acnTzNBz3co0"
   },
   "outputs": [],
   "source": [
    "DATABASE_PATH = 'physionet.org/files/slpdb/1.0.0'\n",
    "\n",
    "with open(os.path.join(DATABASE_PATH, 'RECORDS'), 'r') as file:\n",
    "    PATIENT_NAMES = file.read().split('\\n')[:-1]\n",
    "  \n",
    "PATIENTS = {\n",
    "    patient_name: PatientData(patient_name)\n",
    "    for patient_name in PATIENT_NAMES\n",
    "}"
   ]
  },
  {
   "cell_type": "code",
   "execution_count": 405,
   "metadata": {
    "id": "q4tscNYw7RCf"
   },
   "outputs": [],
   "source": [
    "# 0 Awake\n",
    "# 1 NREM stage 1\n",
    "# 2 NREM stage 2\n",
    "# 3 NREM stage 3 and 4\n",
    "# 4 REM\n",
    "def annotation_sleep_stage (annotation):\n",
    "    if annotation.startswith('W'):\n",
    "        return 0\n",
    "    elif annotation.startswith('1'):\n",
    "        return 1\n",
    "    elif annotation.startswith('2'):\n",
    "        return 2\n",
    "    elif annotation.startswith('3') or annotation.startswith('4'):\n",
    "        return 3\n",
    "    elif annotation.startswith('R'):\n",
    "        return 4\n",
    "    # Ideally, all annotations are classified into one of the above 5\n",
    "    else:\n",
    "        return -1\n",
    "\n",
    "# Since annotations only have labels and the time at which they occur,\n",
    "# interpolate all the data so there's always a label at each time step\n",
    "def step_interpolation (data, locations, total_length):\n",
    "    step_interpolated_data = np.zeros(total_length)\n",
    "\n",
    "    for i in range(len(locations) - 1):\n",
    "        start_range = locations[i]\n",
    "        end_range = locations[i + 1]\n",
    "\n",
    "        # Convert string annotation into sleep stage\n",
    "        step_interpolated_data[(start_range - 1) : end_range] = annotation_sleep_stage(data[i])\n",
    "\n",
    "    return step_interpolated_data"
   ]
  },
  {
   "cell_type": "code",
   "execution_count": 406,
   "metadata": {
    "id": "x15jx_LYmmA6"
   },
   "outputs": [],
   "source": [
    "for patient_name in PATIENT_NAMES:\n",
    "    patient = PATIENTS[patient_name]\n",
    "\n",
    "    # Retrieve raw signals and annotations\n",
    "    record_path = os.path.join(DATABASE_PATH, patient_name)\n",
    "    record = wfdb.io.rdrecord(record_path)\n",
    "    annotation = wfdb.rdann(record_path, extension='st')\n",
    "\n",
    "    # Sampling frequency\n",
    "    # This might differ for each record\n",
    "    patient.sampling_frequency = record.fs\n",
    "\n",
    "    # 0 ECG\n",
    "    # 1 BP\n",
    "    # 2 EEG\n",
    "    # 3 Resp (not available for all)\n",
    "    patient.ECG_signal = record.p_signal[:, 0]\n",
    "    patient.EEG_signal = record.p_signal[:, 2]\n",
    "    patient.record_length = record.sig_len\n",
    "\n",
    "    patient.sleep_stages = step_interpolation(annotation.aux_note, annotation.sample, patient.record_length)"
   ]
  },
  {
   "cell_type": "code",
   "execution_count": 549,
   "metadata": {
    "colab": {
     "base_uri": "https://localhost:8080/"
    },
    "id": "DUsBEQGz7wL5",
    "outputId": "b45f5740-7388-456e-ff70-778b5f800c16"
   },
   "outputs": [
    {
     "name": "stdout",
     "output_type": "stream",
     "text": [
      "[0.085 0.08  0.125 ... 0.23  0.235 0.225]\n",
      "[-0.03919129 -0.03888025 -0.03856921 ...  0.14727838  0.14681182\n",
      "  0.14261275]\n",
      "[3. 3. 3. ... 0. 0. 0.]\n"
     ]
    }
   ],
   "source": [
    "# Example patient\n",
    "patient_slp01a = PATIENTS['slp01a']\n",
    "print(patient_slp01a.ECG_signal)\n",
    "print(patient_slp01a.EEG_signal)\n",
    "print(patient_slp01a.sleep_stages)"
   ]
  },
  {
   "cell_type": "code",
   "execution_count": 408,
   "metadata": {
    "id": "G2eqrZjt0K4Z"
   },
   "outputs": [],
   "source": [
    "# Splitting the dataset into train, validation, test set\n",
    "# Will be split in terms of patients, not sleep data\n",
    "num_patients = len(PATIENTS)\n",
    "\n",
    "# Shuffle patients\n",
    "randomized_patients = copy.deepcopy(list(PATIENTS.keys()))\n",
    "np.random.shuffle(randomized_patients)\n",
    "\n",
    "# 80 / 10 / 10 split of 18 patients will be roughly 14 / 2 / 2\n",
    "# Don't need test_end, since it'll be until the end of data\n",
    "train_end = 14\n",
    "valid_end = train_end + 2\n",
    "\n",
    "# Split data using keys\n",
    "train_patients = randomized_patients[ : train_end]\n",
    "valid_patients = randomized_patients[train_end : valid_end]\n",
    "test_patients = randomized_patients[valid_end : ]"
   ]
  },
  {
   "cell_type": "markdown",
   "metadata": {
    "id": "EYu2d3lFn33a"
   },
   "source": [
    "## **2. Building the Neural Network**"
   ]
  },
  {
   "cell_type": "code",
   "execution_count": 534,
   "metadata": {
    "colab": {
     "base_uri": "https://localhost:8080/"
    },
    "id": "D--JGvLr1E9b",
    "outputId": "b3cc854c-c876-4776-b148-750889344129"
   },
   "outputs": [],
   "source": [
    "def create_dataset(patient_set, window_size=30, diagnostic=False):\n",
    "    inputs = []\n",
    "    labels = []\n",
    "    \n",
    "    i = 0\n",
    "    for patient_name in patient_set:\n",
    "        patient = PATIENTS[patient_name]\n",
    "        total_samples = patient.EEG_signal.shape[0]\n",
    "\n",
    "        # Represents the number of samples (individual numbers) in one window of time (measured in seconds)\n",
    "        samples_per_window = int(window_size * patient.sampling_frequency)\n",
    "        \n",
    "        # Represents how many data points is generated after division with windows\n",
    "        # If the window size is larger, there will be less data points (but more samples per data point)\n",
    "        windows = np.round(total_samples / samples_per_window).astype(np.int64)\n",
    "        \n",
    "        \n",
    "        \n",
    "        if diagnostic:\n",
    "            print(\"Gathering {} patient data...\".format(patient_name))\n",
    "            print(\"> Total number of samples = {}\".format(total_samples))\n",
    "            print(\"  Samples per window size of {} seconds = {}\".format(window_size, samples_per_window))\n",
    "            print(\"  Number of windows = {}\".format(windows))\n",
    "            print(\"  Number of batches for batch size {} = {}\".format(batch_size, batches))\n",
    "\n",
    "            \n",
    "            \n",
    "        for datum in range(windows):\n",
    "            '''\n",
    "            current_batch_inputs = []\n",
    "            current_batch_labels = []\n",
    "            \n",
    "            for datum in range(batch_size):\n",
    "            '''\n",
    "            # Determine start and end of current batch\n",
    "            # Function assumes that batch sizes match the number of samples perfectly\n",
    "            start = (datum * samples_per_window)\n",
    "            end = (start + samples_per_window)\n",
    "\n",
    "            '''\n",
    "            EEG_MFCC = librosa.feature.melspectrogram(\n",
    "                y=patient.EEG_signal[start : end], \n",
    "                sr=patient.sampling_frequency)\n",
    "            ECG_MFCC = librosa.feature.melspectrogram(\n",
    "                y=patient.ECG_signal[start : end], \n",
    "                sr=patient.sampling_frequency)\n",
    "\n",
    "            sample = np.expand_dims(\n",
    "                np.stack([ EEG_MFCC, ECG_MFCC ], axis=2), \n",
    "                axis=0)\n",
    "            '''\n",
    "            \n",
    "            # ORIGINAL \n",
    "            #EEG = patient.EEG_signal[start : end]\n",
    "            #ECG = patient.ECG_signal[start : end]\n",
    "            \n",
    "            # using wave frequencies\n",
    "            sf = 250\n",
    "            freqs, psd = sp.signal.welch(patient.EEG_signal[start : end], sf, nperseg=(4 * sf))\n",
    "            delta = psd[np.logical_and(freqs >= 0.25, freqs < 4)]\n",
    "            theta = psd[np.logical_and(freqs >= 4, freqs < 8)]\n",
    "            alpha = psd[np.logical_and(freqs >= 8, freqs < 12)]\n",
    "            sigma = psd[np.logical_and(freqs >= 12, freqs < 16)]\n",
    "            beta = psd[freqs >= 16] # for awake stage only \n",
    "            EEG = np.concatenate((delta, theta, alpha, sigma, beta)).tolist()\n",
    "            ECG = patient.ECG_signal[start : end]\n",
    "            '''\n",
    "            sample = [\n",
    "                patient.EEG_signal[start : end],\n",
    "                patient.ECG_signal[start : end]\n",
    "            ]\n",
    "            '''\n",
    "            sample = patient.EEG_signal[start : end]\n",
    "            # Only grab the label at the end of the current batch\n",
    "            # This is such that we're using all of the data in the current batch\n",
    "            # in order to predict the sleep stage by the end of the batch\n",
    "            sample_labels = patient.sleep_stages[end - 1]\n",
    "            '''\n",
    "                current_batch_inputs.append(sample)\n",
    "                current_batch_labels.append(sample_labels)\n",
    "            '''\n",
    "            inputs.append(sample)\n",
    "            labels.append(sample_labels)\n",
    "            \n",
    "        i += 1\n",
    "        if i == 1:\n",
    "            break\n",
    "\n",
    "    return np.expand_dims(np.array(inputs), axis=-1), np.expand_dims(np.array(labels), axis=-1)"
   ]
  },
  {
   "cell_type": "code",
   "execution_count": 535,
   "metadata": {},
   "outputs": [],
   "source": [
    "# Create training and validation dataset\n",
    "train_data, train_labels = create_dataset(train_patients, diagnostic=False)\n",
    "valid_data, valid_labels = create_dataset(valid_patients, diagnostic=False)"
   ]
  },
  {
   "cell_type": "code",
   "execution_count": 536,
   "metadata": {},
   "outputs": [
    {
     "name": "stdout",
     "output_type": "stream",
     "text": [
      "(480, 7500, 1)\n",
      "(480, 1)\n"
     ]
    }
   ],
   "source": [
    "print(train_data.shape)\n",
    "print(train_labels.shape)"
   ]
  },
  {
   "cell_type": "code",
   "execution_count": 516,
   "metadata": {},
   "outputs": [],
   "source": [
    "# Inception layer\n",
    "# Two 1D convolution layers in parallel concatenate at the end\n",
    "# Left and right filter amounts can be modified\n",
    "class Inception1D (layers.Layer):\n",
    "\n",
    "    def __init__ (self, left_filter, right_filter):\n",
    "        super(Inception1D, self).__init__()\n",
    "\n",
    "        # Left-side convolution\n",
    "        self.left_conv = layers.Conv1D(\n",
    "            filters=left_filter, \n",
    "            kernel_size=1,\n",
    "            padding='same',\n",
    "            activation='relu')\n",
    "\n",
    "        # Right-side convolution\n",
    "        self.right_conv = layers.Conv1D(\n",
    "            filters=right_filter, \n",
    "            kernel_size=3,\n",
    "            padding='same',\n",
    "            activation='relu')\n",
    "\n",
    "    def call (self, inputs, training=False):\n",
    "        left = self.left_conv(inputs)\n",
    "        right = self.right_conv(inputs)\n",
    "        x = layers.Concatenate()([left, right])\n",
    "        x = layers.MaxPooling1D()(x)\n",
    "        if training:\n",
    "            x = layers.SpatialDropout1D(0.01)(x)\n",
    "\n",
    "        return x"
   ]
  },
  {
   "cell_type": "code",
   "execution_count": 547,
   "metadata": {
    "colab": {
     "base_uri": "https://localhost:8080/"
    },
    "id": "yo5vb_3VJXKC",
    "outputId": "31a97c49-f62c-47b2-b045-5c6be97fe94d"
   },
   "outputs": [],
   "source": [
    "class PCNN (tf.keras.Model):\n",
    "    \n",
    "    def __init__ (self):\n",
    "        super(PCNN, self).__init__()\n",
    "        \n",
    "        self.EEG = [\n",
    "            Inception1D(64, 64),\n",
    "            Inception1D(16, 16),\n",
    "            Inception1D(8, 8),\n",
    "            Inception1D(8, 8),\n",
    "            Inception1D(8, 8)\n",
    "        ]\n",
    "        \n",
    "        self.ANN = [\n",
    "            layers.Dense(128, activation='relu'),\n",
    "            layers.Dense(64, activation='relu'),\n",
    "            layers.Dense(5, activation='softmax')\n",
    "        ]\n",
    "    \n",
    "    def call (self, inputs, training=False):\n",
    "        #eeg = inputs[:,0]\n",
    "        #ecg = inputs[:,1]\n",
    "        \n",
    "        eeg = inputs\n",
    "        \n",
    "        # Parallel convolutional networks\n",
    "        for conv in self.EEG:\n",
    "            eeg = conv(eeg)\n",
    "            #ecg = conv(ecg)\n",
    "            \n",
    "        # Self-attention\n",
    "        #eeg_attention = layers.Attention()([eeg, eeg])\n",
    "        #ecg_attention = layers.Attention()([ecg, ecg])\n",
    "            \n",
    "        # Concatenate convolutional embedding\n",
    "        # Perform dropouts and batch normalization for ANN classifier\n",
    "        #eeg = layers.Concatenate()([eeg, eeg_attention])\n",
    "        #ecg = layers.Concatenate()([ecg, ecg_attention])\n",
    "        x = layers.Concatenate()([eeg])\n",
    "        x = layers.Flatten()(x)\n",
    "        \n",
    "        # Only include dropouts during trainning\n",
    "        if training:\n",
    "            x = layers.Dropout(0.05)(x)\n",
    "        \n",
    "        # Fully-connected classifier\n",
    "        for layer in self.ANN:\n",
    "            x = layer(x)\n",
    "            \n",
    "        return x\n",
    "        \n",
    "\n",
    "\n",
    "model = PCNN()\n",
    "\n",
    "# Compile the model\n",
    "model.compile(\n",
    "    optimizer = tf.keras.optimizers.Adam(0.001),\n",
    "    loss      = tf.keras.losses.CategoricalCrossentropy(),\n",
    "    metrics   = tf.keras.metrics.CategoricalAccuracy()\n",
    ")"
   ]
  },
  {
   "cell_type": "code",
   "execution_count": 548,
   "metadata": {
    "colab": {
     "base_uri": "https://localhost:8080/"
    },
    "id": "H9Ll4Jj4SEDJ",
    "outputId": "f841a15f-02b0-4c4a-df0d-daf429e10294"
   },
   "outputs": [
    {
     "name": "stdout",
     "output_type": "stream",
     "text": [
      "Epoch 1/5\n",
      "15/15 [==============================] - 10s 609ms/step - loss: 1.5677 - categorical_accuracy: 0.3146 - val_loss: 1.5849 - val_categorical_accuracy: 0.2936\n",
      "Epoch 2/5\n",
      "15/15 [==============================] - 8s 567ms/step - loss: 1.5204 - categorical_accuracy: 0.3375 - val_loss: 1.5481 - val_categorical_accuracy: 0.2936\n",
      "Epoch 3/5\n",
      "15/15 [==============================] - 9s 582ms/step - loss: 1.5000 - categorical_accuracy: 0.3375 - val_loss: 1.5678 - val_categorical_accuracy: 0.2936\n",
      "Epoch 4/5\n",
      "15/15 [==============================] - 9s 584ms/step - loss: 1.4959 - categorical_accuracy: 0.3375 - val_loss: 1.5143 - val_categorical_accuracy: 0.2936\n",
      "Epoch 5/5\n",
      "15/15 [==============================] - 9s 585ms/step - loss: 1.4242 - categorical_accuracy: 0.3375 - val_loss: 1.4873 - val_categorical_accuracy: 0.2936\n"
     ]
    }
   ],
   "source": [
    "# Train the neural network\n",
    "history = model.fit(\n",
    "    x               = train_data,\n",
    "    y               = utils.to_categorical(train_labels),\n",
    "    epochs          = 5,\n",
    "    validation_data = (\n",
    "        valid_data,\n",
    "        utils.to_categorical(valid_labels)\n",
    "    )\n",
    ")"
   ]
  },
  {
   "cell_type": "code",
   "execution_count": 496,
   "metadata": {
    "colab": {
     "base_uri": "https://localhost:8080/",
     "height": 300
    },
    "id": "sTZp9NLH94p1",
    "outputId": "23603d9c-6cb1-4840-8839-5ef177036029"
   },
   "outputs": [
    {
     "data": {
      "text/plain": [
       "<matplotlib.legend.Legend at 0x2772f8bb640>"
      ]
     },
     "execution_count": 496,
     "metadata": {},
     "output_type": "execute_result"
    },
    {
     "data": {
      "image/png": "[encoded data removed]",
      "text/plain": [
       "<Figure size 432x288 with 1 Axes>"
      ]
     },
     "metadata": {
      "needs_background": "light"
     },
     "output_type": "display_data"
    }
   ],
   "source": [
    "# Graph training accuracy\n",
    "plt.plot(history.history['categorical_accuracy'], label='Training Accuracy')\n",
    "plt.plot(history.history['val_categorical_accuracy'], label='Validation Accuracy')\n",
    "plt.xlabel('Epoch')\n",
    "plt.ylabel('Accuracy')\n",
    "plt.ylim([0, 1])\n",
    "plt.legend(loc='lower right')"
   ]
  },
  {
   "cell_type": "code",
   "execution_count": 443,
   "metadata": {},
   "outputs": [
    {
     "name": "stdout",
     "output_type": "stream",
     "text": [
      "97/97 [==============================] - 3s 29ms/step - loss: 2.2326 - categorical_accuracy: 0.3490\n"
     ]
    },
    {
     "data": {
      "text/plain": [
       "[2.23262357711792, 0.3490259647369385]"
      ]
     },
     "execution_count": 443,
     "metadata": {},
     "output_type": "execute_result"
    }
   ],
   "source": [
    "# Get test accuracy of the network\n",
    "test_data, test_labels = create_dataset(valid_patients, diagnostic=False)\n",
    "model.evaluate(test_data, utils.to_categorical(test_labels))"
   ]
  }
 ],
 "metadata": {
  "colab": {
   "collapsed_sections": [],
   "name": "Rough Implementation",
   "provenance": []
  },
  "kernelspec": {
   "display_name": "Python 3 (ipykernel)",
   "language": "python",
   "name": "python3"
  },
  "language_info": {
   "codemirror_mode": {
    "name": "ipython",
    "version": 3
   },
   "file_extension": ".py",
   "mimetype": "text/x-python",
   "name": "python",
   "nbconvert_exporter": "python",
   "pygments_lexer": "ipython3",
   "version": "3.9.12"
  }
 },
 "nbformat": 4,
 "nbformat_minor": 1
}
